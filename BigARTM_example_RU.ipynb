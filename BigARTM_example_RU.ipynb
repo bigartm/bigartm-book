{
 "cells": [
  {
   "cell_type": "markdown",
   "metadata": {},
   "source": [
    "# BigARTM Python API."
   ]
  },
  {
   "cell_type": "markdown",
   "metadata": {},
   "source": [
    "BigARTM --- открытая библиотека для тематического моделирования текстовых коллекций, реализующая теорию аддитивной регуляризации тематических моделей (ARTM). Основной сайт проекта http://bigartm.org/.\n",
    "\n",
    "Здесь показан пример использования пользовательского Python API библиотеки. Мы проведём демонстрационный эксперимент.\n",
    "\n",
    "####Описание:\n",
    "Построим две тематические модели коллекции текстовых документов, ARTM и PLSA, сравним качество полученных моделей.\n",
    "\n",
    "####Функционалы качества:\n",
    "Важным функционалом является перплексия коллекции. Тем не менее, это далеко не единственная величина, характеризующая качество обучения. В BigARTM реализованы следующие функционалы:\n",
    "\n",
    "- разреженность матрицы $\\Phi$ (слова-темы);\n",
    "- разреженность матрицы $\\Theta$ (темы-документы);\n",
    "- характеристики ядер тем (чистота, контрастность, размер);\n",
    "- перплексия;\n",
    "- когерентность топ-слов и слов из ядер тем.\n",
    "\n",
    "Мы будем использовать первые четыре. Более сильные разреженности матриц и более высокие средние значения чистоты и контрастности способствуют большей интерпретируемости модели.\n",
    "\n",
    "####Цель эксперимента:\n",
    "Попробуем обучить модель ARTM таким образом, чтобы, в сравнении с PLSA, улучшить значения разреженностей и ядровых характеристик и не сильно ухудшить перплексию.\n",
    "\n",
    "Основным инструментом для корректирования процесса обучения являются регуляризаторы. Список имеющихся в BigARTM регуляризаторов:\n",
    "\n",
    "- разреживание матрицы $\\Phi$ (+ частичное обучение);\n",
    "- разреживание матрицы $\\Theta$ (+ частичное обучение);\n",
    "- декоррелирование тем в матрице $\\Phi$;\n",
    "- принудительное разреживания $\\Phi$;\n",
    "- балансирование классов (Label Regularization);\n",
    "- повышение когерентности.\n",
    "\n",
    "В этом эксперименте для обучения ARTM воспользуемся первыми тремя регуляризаторами. ARTM без регуляризации соответствует PLSA.\n",
    "\n",
    "####Коллекция:\n",
    "Воспользуемся небольшой коллекцией 'kos', доступной в репозитории UCI https://archive.ics.uci.edu/ml/machine-learning-databases/bag-of-words/. Параметры коллекции следующие:\n",
    "\n",
    "- 3430 документов;\n",
    "- 6906 слов в словаре;\n",
    "- 467714 слов в коллекции."
   ]
  },
  {
   "cell_type": "markdown",
   "metadata": {},
   "source": [
    "Для начала подключим все необходимые модули (убедитесь, что путь к Python API BigARTM находится в вашей переменной PATH):"
   ]
  },
  {
   "cell_type": "code",
   "execution_count": 1,
   "metadata": {
    "collapsed": false
   },
   "outputs": [],
   "source": [
    "%matplotlib inline\n",
    "import glob\n",
    "import matplotlib.pyplot as plt\n",
    "\n",
    "import artm"
   ]
  },
  {
   "cell_type": "markdown",
   "metadata": {},
   "source": [
    "Прежде всего необходимо подготовить входные данные. BigARTM имеет собственный формат документов для обработки, называемый батчами. В библиотеки присутствуют средства по созданию батчей из файлов Bag-Of-Words в форматах UCI и Vowpal Wabbit (подробности можно найти в http://docs.bigartm.org/en/latest/formats.html).\n",
    "\n",
    "В Python API, по аналогии с алгоритмами из scikit-learn, входные данные представлены одним классом BatchVectorizer. Объект этого класса принимает на вход батчи или файлы с Bag-Of-Words и подаётся на вход всем методам. В случае, если входные данные не являются батчами, он создаёт их и сохраняет на диск для последующего быстрого использования.\n",
    "\n",
    "Итак, создадим объект BatchVectorizer:"
   ]
  },
  {
   "cell_type": "code",
   "execution_count": 2,
   "metadata": {
    "collapsed": false
   },
   "outputs": [],
   "source": [
    "batch_vectorizer = None\n",
    "if len(glob.glob('kos' + \"/*.batch\")) < 1:\n",
    "    batch_vectorizer = artm.BatchVectorizer(data_path='', data_format='bow_uci', collection_name='kos', target_folder='kos')\n",
    "else:\n",
    "    batch_vectorizer = artm.BatchVectorizer(data_path='kos', data_format='batches')"
   ]
  },
  {
   "cell_type": "markdown",
   "metadata": {
    "collapsed": false
   },
   "source": [
    "ARTM --- это класс, представляющий собой Python API BigARTM, и позволяющий использовать практически все возможности библиотеки в стиле scikit-learn. Создадим две тематические модели для нашего эксперимента. Наиболее важными параметрами моделей являются число тем и число проходов по документам коллекции в процессе итераций ЕМ-алгоритма. Опционально можно указать списки регуляризаторов и функционалов качества, которые следует использовать для данной модели. Если этого не сделать, то регуляризаторы и функционалы всегда можно добавить позднее. Обратите внимание, что каждая модель задаёт своё пространство имён для названий регуляризаторов и функционалов качества."
   ]
  },
  {
   "cell_type": "code",
   "execution_count": 3,
   "metadata": {
    "collapsed": false
   },
   "outputs": [],
   "source": [
    "model_plsa = artm.ARTM(num_topics=15,\n",
    "                  scores=[artm.PerplexityScore(name='PerplexityScore',\n",
    "                                               use_unigram_document_model=False,\n",
    "                                               dictionary_name='dictionary')])\n",
    "\n",
    "model_artm = artm.ARTM(num_topics=15,\n",
    "                  scores=[artm.PerplexityScore(name='PerplexityScore',\n",
    "                                               use_unigram_document_model=False,\n",
    "                                               dictionary_name='dictionary')],\n",
    "                  regularizers=[artm.SmoothSparseThetaRegularizer(name='SparseTheta', tau=-0.5)])"
   ]
  },
  {
   "cell_type": "markdown",
   "metadata": {},
   "source": [
    "Следующий шаг — инициализация моделей. Сделаем это по словарю, что означает, что\n",
    "- будет создана матрица $\\Phi$ с именем 'pwt', число строк и столбцов в ней будет взято исходя из числа слов в словаре и заданного в модели числа тем;\n",
    "- эа матрица будет заполнена случайными значениями из диапазона (0, 1) и нормализована.\n",
    "\n",
    "Надо отметить, что этот шаг является опциональным, поскольку модель может быть автоматически инициализирована во время вызовов fit_offline() / fit_online().\n",
    "\n",
    "Словарь --- это объект BigARTM, содержащий информацию о коллекции (словарь коллекции, различные величины и счётчики, связанные со словами). Создать словарь можно на основе папки с батчами. Затем собранный словарь можно сохранять на диск и позже подгрузить вновь."
   ]
  },
  {
   "cell_type": "code",
   "execution_count": 5,
   "metadata": {
    "collapsed": false
   },
   "outputs": [],
   "source": [
    "model_plsa.gather_dictionary(\"dictionary\", batch_vectorizer.data_path)\n",
    "model_plsa.save_dictionary(dictionary_name='dictionary', dictionary_path='kos/dictionary.dict')\n",
    "model_artm.load_dictionary(dictionary_name='dictionary', dictionary_path='kos/dictionary.dict')"
   ]
  },
  {
   "cell_type": "markdown",
   "metadata": {},
   "source": [
    "Затем словари можн оиспользовать, чтобы инициализировать модель:"
   ]
  },
  {
   "cell_type": "code",
   "execution_count": 6,
   "metadata": {
    "collapsed": false
   },
   "outputs": [],
   "source": [
    "model_plsa.initialize(dictionary_name='dictionary')\n",
    "model_artm.initialize(dictionary_name='dictionary')"
   ]
  },
  {
   "cell_type": "markdown",
   "metadata": {},
   "source": [
    "Как уже было сказано, ARTM предоставляет возможность использовать все функционалы качества, имеющиеся в BigARTM. Если функционал подключен к модели, то модель будет сохранять все его значения, полученные на момент каждого обновления матрицы $\\Phi$. Добавим функционалы качества, нужные для нашего эксперимента, которые отсутствовали в конструкторах:"
   ]
  },
  {
   "cell_type": "code",
   "execution_count": 7,
   "metadata": {
    "collapsed": false
   },
   "outputs": [],
   "source": [
    "model_plsa.scores.add(artm.SparsityPhiScore(name='SparsityPhiScore'))\n",
    "model_plsa.scores.add(artm.SparsityThetaScore(name='SparsityThetaScore'))\n",
    "model_plsa.scores.add(artm.TopicKernelScore(name='TopicKernelScore', probability_mass_threshold=0.3))\n",
    "\n",
    "model_artm.scores.add(artm.SparsityPhiScore(name='SparsityPhiScore'))\n",
    "model_artm.scores.add(artm.SparsityThetaScore(name='SparsityThetaScore'))\n",
    "model_artm.scores.add(artm.TopicKernelScore(name='TopicKernelScore', probability_mass_threshold=0.3))"
   ]
  },
  {
   "cell_type": "markdown",
   "metadata": {},
   "source": [
    "Аналогично поступим с регуляризаторами для model_artm (зададим им стартовые коэффициенты регуляризации, которые можно будет позже изменить при необходимости):"
   ]
  },
  {
   "cell_type": "code",
   "execution_count": 8,
   "metadata": {
    "collapsed": false
   },
   "outputs": [],
   "source": [
    "model_artm.regularizers.add(artm.SmoothSparsePhiRegularizer(name='SparsePhi', tau=-0.3))\n",
    "model_artm.regularizers.add(artm.DecorrelatorPhiRegularizer(name='DecorrelatorPhi', tau=2e+5))"
   ]
  },
  {
   "cell_type": "markdown",
   "metadata": {},
   "source": [
    "Теперь попробуем обучить модели в оффлайн-режиме (т.е. обновляя Фи раз за проход по коллекции). Инициируем пять проходов:"
   ]
  },
  {
   "cell_type": "code",
   "execution_count": 9,
   "metadata": {
    "collapsed": false
   },
   "outputs": [],
   "source": [
    "model_plsa.fit_offline(batch_vectorizer=batch_vectorizer, num_collection_passes=5)\n",
    "model_artm.fit_offline(batch_vectorizer=batch_vectorizer, num_collection_passes=5)"
   ]
  },
  {
   "cell_type": "markdown",
   "metadata": {},
   "source": [
    "Проверим результаты первой итерации обучения, сравнив финальные значения функционалов, а также графики перплексии (опишем печать в виде функции для возможности повторного использования):"
   ]
  },
  {
   "cell_type": "code",
   "execution_count": 10,
   "metadata": {
    "collapsed": false
   },
   "outputs": [
    {
     "name": "stdout",
     "output_type": "stream",
     "text": [
      "Sparsity Phi: 0.000 (PLSA) vs. 0.359 (ARTM)\n",
      "Sparsity Theta: 0.000 (PLSA) vs. 0.048 (ARTM)\n",
      "Kernel contrast: 0.367 (PLSA) vs. 0.415 (ARTM)\n",
      "Kernel purity: 0.009 (PLSA) vs. 0.076 (ARTM)\n",
      "Perplexity: 2459.115 (PLSA) vs. 2680.900 (ARTM)\n"
     ]
    },
    {
     "data": {
      "image/png": "[encoded data removed]",
      "text/plain": [
       "<matplotlib.figure.Figure at 0xb952400>"
      ]
     },
     "metadata": {},
     "output_type": "display_data"
    }
   ],
   "source": [
    "def print_measures(model_plsa, model_artm):\n",
    "    print 'Sparsity Phi: {0:.3f} (PLSA) vs. {1:.3f} (ARTM)'.format(\n",
    "        model_plsa.score_tracker['SparsityPhiScore'].last_value,\n",
    "        model_artm.score_tracker['SparsityPhiScore'].last_value)\n",
    "\n",
    "    print 'Sparsity Theta: {0:.3f} (PLSA) vs. {1:.3f} (ARTM)'.format(\n",
    "        model_plsa.score_tracker['SparsityThetaScore'].last_value,\n",
    "        model_artm.score_tracker['SparsityThetaScore'].last_value)\n",
    "\n",
    "    print 'Kernel contrast: {0:.3f} (PLSA) vs. {1:.3f} (ARTM)'.format(\n",
    "        model_plsa.score_tracker['TopicKernelScore'].last_average_contrast,\n",
    "        model_artm.score_tracker['TopicKernelScore'].last_average_contrast)\n",
    "\n",
    "    print 'Kernel purity: {0:.3f} (PLSA) vs. {1:.3f} (ARTM)'.format(\n",
    "        model_plsa.score_tracker['TopicKernelScore'].last_average_purity,\n",
    "        model_artm.score_tracker['TopicKernelScore'].last_average_purity)\n",
    "\n",
    "    print 'Perplexity: {0:.3f} (PLSA) vs. {1:.3f} (ARTM)'.format(\n",
    "        model_plsa.score_tracker['PerplexityScore'].last_value,\n",
    "        model_artm.score_tracker['PerplexityScore'].last_value)\n",
    "\n",
    "    plt.plot(xrange(model_plsa.num_phi_updates), model_plsa.score_tracker['PerplexityScore'].value, 'b--',\n",
    "             xrange(model_artm.num_phi_updates), model_artm.score_tracker['PerplexityScore'].value, 'r--', linewidth=2)\n",
    "    plt.xlabel('Iterations count')\n",
    "    plt.ylabel('PLSA perp. (blue), ARTM perp. (red)')\n",
    "    plt.grid(True)\n",
    "    plt.show()\n",
    "    \n",
    "print_measures(model_plsa, model_artm)"
   ]
  },
  {
   "cell_type": "markdown",
   "metadata": {},
   "source": [
    "Видно, что улучшения разреженностей и ядровых характеристик есть, а ухудшение перплексии невелико. Попробуем увеличить по модулю значения коэффициентов регуляризации при регуляризаторах:"
   ]
  },
  {
   "cell_type": "code",
   "execution_count": 11,
   "metadata": {
    "collapsed": false
   },
   "outputs": [],
   "source": [
    "model_artm.regularizers['SparsePhi'].tau = -1.2\n",
    "model_artm.regularizers['SparseTheta'].tau = -0.6\n",
    "model_artm.regularizers['DecorrelatorPhi'].tau = 4.5e+5"
   ]
  },
  {
   "cell_type": "markdown",
   "metadata": {},
   "source": [
    "Кроме того, подключим к каждой из моделей функционал TopTokensScore, который позволит взглянуть на самые вероятные слова в каждой теме:"
   ]
  },
  {
   "cell_type": "code",
   "execution_count": 12,
   "metadata": {
    "collapsed": true
   },
   "outputs": [],
   "source": [
    "model_plsa.scores.add(artm.TopTokensScore(name='TopTokensScore', num_tokens=6))\n",
    "model_artm.scores.add(artm.TopTokensScore(name='TopTokensScore', num_tokens=6))"
   ]
  },
  {
   "cell_type": "markdown",
   "metadata": {},
   "source": [
    "Продолжим обучение моделей, инициировав 15 проходов по коллекции, после чего снова посмотрим на значения функционалов качества:"
   ]
  },
  {
   "cell_type": "code",
   "execution_count": 13,
   "metadata": {
    "collapsed": false
   },
   "outputs": [],
   "source": [
    "model_plsa.fit_offline(batch_vectorizer=batch_vectorizer, num_collection_passes=15)\n",
    "model_artm.fit_offline(batch_vectorizer=batch_vectorizer, num_collection_passes=15)"
   ]
  },
  {
   "cell_type": "code",
   "execution_count": 14,
   "metadata": {
    "collapsed": false
   },
   "outputs": [
    {
     "name": "stdout",
     "output_type": "stream",
     "text": [
      "Sparsity Phi: 0.086 (PLSA) vs. 0.833 (ARTM)\n",
      "Sparsity Theta: 0.001 (PLSA) vs. 0.483 (ARTM)\n",
      "Kernel contrast: 0.527 (PLSA) vs. 0.677 (ARTM)\n",
      "Kernel purity: 0.395 (PLSA) vs. 0.670 (ARTM)\n",
      "Perplexity: 1437.567 (PLSA) vs. 1910.173 (ARTM)\n"
     ]
    },
    {
     "data": {
      "image/png": "[encoded data removed]",
      "text/plain": [
       "<matplotlib.figure.Figure at 0xbadae10>"
      ]
     },
     "metadata": {},
     "output_type": "display_data"
    }
   ],
   "source": [
    "print_measures(model_plsa, model_artm)"
   ]
  },
  {
   "cell_type": "markdown",
   "metadata": {},
   "source": [
    "Кроме того, для наглядности построим графики изменения разреженностей матриц по итерациям:"
   ]
  },
  {
   "cell_type": "code",
   "execution_count": 15,
   "metadata": {
    "collapsed": false
   },
   "outputs": [
    {
     "data": {
      "image/png": "[encoded data removed]",
      "text/plain": [
       "<matplotlib.figure.Figure at 0xba99a58>"
      ]
     },
     "metadata": {},
     "output_type": "display_data"
    },
    {
     "data": {
      "image/png": "[encoded data removed]",
      "text/plain": [
       "<matplotlib.figure.Figure at 0x1401eb38>"
      ]
     },
     "metadata": {},
     "output_type": "display_data"
    }
   ],
   "source": [
    "plt.plot(xrange(model_plsa.num_phi_updates), model_plsa.score_tracker['SparsityPhiScore'].value, 'b--',\n",
    "                 xrange(model_artm.num_phi_updates), model_artm.score_tracker['SparsityPhiScore'].value, 'r--', linewidth=2)\n",
    "plt.xlabel('Iterations count')\n",
    "plt.ylabel('PLSA Phi sp. (blue), ARTM Phi sp. (red)')\n",
    "plt.grid(True)\n",
    "plt.show()\n",
    "\n",
    "plt.plot(xrange(model_plsa.num_phi_updates), model_plsa.score_tracker['SparsityThetaScore'].value, 'b--',\n",
    "                 xrange(model_artm.num_phi_updates), model_artm.score_tracker['SparsityThetaScore'].value, 'r--', linewidth=2)\n",
    "plt.xlabel('Iterations count')\n",
    "plt.ylabel('PLSA Theta sp. (blue), ARTM Theta sp. (red)')\n",
    "plt.grid(True)\n",
    "plt.show()"
   ]
  },
  {
   "cell_type": "markdown",
   "metadata": {
    "collapsed": false
   },
   "source": [
    "Кажется, что достигнутых результатов достаточно. Регуляризация позволила добиться улучшения всех характеристик, ухудшив перплексию в пределах разумного. Взглянем на топ-слова слова моделей:"
   ]
  },
  {
   "cell_type": "code",
   "execution_count": 16,
   "metadata": {
    "collapsed": false
   },
   "outputs": [
    {
     "name": "stdout",
     "output_type": "stream",
     "text": [
      "@topic_0:  [u'bush', u'party', u'tax', u'president', u'political', u'court']\n",
      "@topic_1:  [u'iraq', u'war', u'military', u'troops', u'killed', u'people']\n",
      "@topic_2:  [u'november', u'poll', u'governor', u'house', u'electoral', u'account']\n",
      "@topic_3:  [u'senate', u'republican', u'gop', u'race', u'campaign', u'republicans']\n",
      "@topic_4:  [u'election', u'general', u'time', u'specter', u'people', u'bush']\n",
      "@topic_5:  [u'kerry', u'dean', u'edwards', u'clark', u'primary', u'democratic']\n",
      "@topic_6:  [u'state', u'race', u'democrats', u'party', u'candidates', u'democratic']\n",
      "@topic_7:  [u'administration', u'bush', u'president', u'years', u'house', u'bill']\n",
      "@topic_8:  [u'campaign', u'dean', u'democratic', u'media', u'iowa', u'states']\n",
      "@topic_9:  [u'house', u'republican', u'million', u'money', u'delay', u'committee']\n",
      "@topic_10:  [u'november', u'vote', u'voting', u'kerry', u'senate', u'house']\n",
      "@topic_11:  [u'iraq', u'bush', u'war', u'administration', u'president', u'american']\n",
      "@topic_12:  [u'bush', u'poll', u'kerry', u'polls', u'percent', u'voters']\n",
      "@topic_13:  [u'time', u'house', u'media', u'bush', u'white', u'people']\n",
      "@topic_14:  [u'bush', u'kerry', u'general', u'bushs', u'george', u'percent']\n"
     ]
    }
   ],
   "source": [
    "for topic_name in model_plsa.topic_names:\n",
    "    print topic_name + ': ',\n",
    "    print model_plsa.score_tracker['TopTokensScore'].last_topic_info[topic_name].tokens"
   ]
  },
  {
   "cell_type": "code",
   "execution_count": 17,
   "metadata": {
    "collapsed": false
   },
   "outputs": [
    {
     "name": "stdout",
     "output_type": "stream",
     "text": [
      "@topic_0:  [u'party', u'tax', u'political', u'court', u'issue', u'law']\n",
      "@topic_1:  [u'military', u'troops', u'killed', u'officials', u'attacks', u'service']\n",
      "@topic_2:  [u'account', u'electoral', u'governor', u'contact', u'sunzoo', u'experience']\n",
      "@topic_3:  [u'republican', u'senate', u'gop', u'debate', u'senator', u'carson']\n",
      "@topic_4:  [u'specter', u'toomey', u'workers', u'oil', u'signs', u'yesterday']\n",
      "@topic_5:  [u'dean', u'edwards', u'clark', u'john', u'gephardt', u'iowa']\n",
      "@topic_6:  [u'state', u'democrats', u'candidates', u'race', u'party', u'candidate']\n",
      "@topic_7:  [u'administration', u'years', u'white', u'president', u'bill', u'jobs']\n",
      "@topic_8:  [u'campaign', u'media', u'union', u'national', u'ads', u'press']\n",
      "@topic_9:  [u'house', u'republican', u'million', u'elections', u'delay', u'committee']\n",
      "@topic_10:  [u'kerry', u'november', u'general', u'vote', u'poll', u'primary']\n",
      "@topic_11:  [u'iraq', u'war', u'american', u'iraqi', u'administration', u'people']\n",
      "@topic_12:  [u'percent', u'poll', u'voters', u'polls', u'numbers', u'results']\n",
      "@topic_13:  [u'time', u'national', u'herseth', u'long', u'political', u'call']\n",
      "@topic_14:  [u'ohio', u'won', u'george', u'oct', u'county', u'july']\n"
     ]
    }
   ],
   "source": [
    "for topic_name in model_artm.topic_names:\n",
    "    print topic_name + ': ',\n",
    "    print model_artm.score_tracker['TopTokensScore'].last_topic_info[topic_name].tokens"
   ]
  },
  {
   "cell_type": "markdown",
   "metadata": {
    "collapsed": false
   },
   "source": [
    "Видно, что темы примерно одинаково интерпретируемы, но в модели ARTM они существенно разнообразнее."
   ]
  },
  {
   "cell_type": "markdown",
   "metadata": {},
   "source": [
    "Извлечём матрицу $\\Phi$ в виде pandas.DataFrame и напечатаем её (в случае необходимости, можно извлекать части матрицы с помощью метода ARTM.get_phi()):"
   ]
  },
  {
   "cell_type": "code",
   "execution_count": 18,
   "metadata": {
    "collapsed": false
   },
   "outputs": [
    {
     "name": "stdout",
     "output_type": "stream",
     "text": [
      "             @topic_0  @topic_1  @topic_2  @topic_3  @topic_4  @topic_5  \\\n",
      "children     0.001205  0.002633         0  0.000005  0.002304  0.000000   \n",
      "felt         0.000840  0.000041         0  0.000000  0.000000  0.000417   \n",
      "armstrong    0.000000  0.000206         0  0.000400  0.000000  0.001676   \n",
      "bush         0.000000  0.000000         0  0.000000  0.000000  0.000000   \n",
      "effect       0.000375  0.000000         0  0.000171  0.001188  0.001199   \n",
      "costs        0.001567  0.000500         0  0.000000  0.000000  0.000166   \n",
      "preview      0.000000  0.000000         0  0.000517  0.000000  0.000000   \n",
      "objective    0.000000  0.000119         0  0.000000  0.000884  0.000000   \n",
      "ads          0.000000  0.000000         0  0.002820  0.000000  0.000057   \n",
      "broad        0.000000  0.000583         0  0.000154  0.000000  0.000000   \n",
      "polled       0.000000  0.000000         0  0.000000  0.000000  0.000000   \n",
      "serve        0.000000  0.000000         0  0.000097  0.000000  0.000728   \n",
      "famous       0.000000  0.000000         0  0.000000  0.000000  0.000000   \n",
      "highest      0.000041  0.000000         0  0.000000  0.000000  0.000206   \n",
      "dear         0.000328  0.000347         0  0.000000  0.000000  0.000000   \n",
      "fools        0.000000  0.000000         0  0.000000  0.000000  0.000000   \n",
      "left         0.000174  0.003153         0  0.001158  0.000000  0.001417   \n",
      "turnaround   0.000000  0.000294         0  0.000000  0.000000  0.000000   \n",
      "leaking      0.000000  0.000000         0  0.000377  0.000000  0.000000   \n",
      "buy          0.000617  0.000000         0  0.001955  0.000000  0.000000   \n",
      "token        0.000000  0.000000         0  0.000169  0.000000  0.000000   \n",
      "bank         0.000683  0.000000         0  0.000000  0.000000  0.000873   \n",
      "fielding     0.000374  0.000000         0  0.000000  0.000000  0.000000   \n",
      "standards    0.000000  0.000000         0  0.000326  0.000000  0.000000   \n",
      "airport      0.000180  0.000000         0  0.000000  0.000000  0.000000   \n",
      "fight        0.001543  0.003389         0  0.000130  0.000000  0.000847   \n",
      "freedom      0.000000  0.001916         0  0.000000  0.000000  0.000222   \n",
      "advantage    0.000000  0.000000         0  0.001679  0.000000  0.000000   \n",
      "september    0.000000  0.000000         0  0.000000  0.000298  0.000000   \n",
      "single       0.000863  0.001081         0  0.000000  0.000000  0.001413   \n",
      "...               ...       ...       ...       ...       ...       ...   \n",
      "patron       0.000298  0.000000         0  0.000000  0.000000  0.000000   \n",
      "treason      0.000000  0.000000         0  0.000000  0.000000  0.000000   \n",
      "caci         0.000000  0.000000         0  0.000000  0.000000  0.000000   \n",
      "reservists   0.000000  0.000000         0  0.000000  0.000000  0.000000   \n",
      "freedoms     0.000000  0.000385         0  0.000000  0.000000  0.000000   \n",
      "rationales   0.000000  0.000000         0  0.000000  0.000000  0.000000   \n",
      "eisenhower   0.000000  0.000000         0  0.000000  0.000000  0.000399   \n",
      "oceana       0.000000  0.000000         0  0.000000  0.000000  0.000000   \n",
      "charities    0.000000  0.000000         0  0.000000  0.000000  0.000000   \n",
      "matrix       0.000527  0.000000         0  0.000000  0.000000  0.000000   \n",
      "mojo         0.000000  0.000000         0  0.000493  0.000000  0.000000   \n",
      "rices        0.000000  0.000000         0  0.000000  0.000000  0.000000   \n",
      "blackwater   0.000000  0.000000         0  0.000801  0.000000  0.000000   \n",
      "usaid        0.000000  0.000516         0  0.000000  0.000000  0.000000   \n",
      "condis       0.000000  0.000000         0  0.000000  0.000000  0.000000   \n",
      "presents     0.000000  0.000000         0  0.000000  0.000000  0.000000   \n",
      "saleh        0.000000  0.000000         0  0.000000  0.000000  0.000000   \n",
      "conflicted   0.000336  0.000000         0  0.000000  0.000000  0.000000   \n",
      "kroll        0.000000  0.000385         0  0.000000  0.000000  0.000000   \n",
      "stagflation  0.000000  0.000000         0  0.000000  0.000000  0.000000   \n",
      "imam         0.000000  0.000516         0  0.000000  0.000000  0.000000   \n",
      "liebeck      0.000000  0.000000         0  0.000000  0.000000  0.000399   \n",
      "stella       0.000000  0.000000         0  0.000000  0.000000  0.000467   \n",
      "allday       0.000000  0.000000         0  0.000000  0.000000  0.000000   \n",
      "murdoch      0.000000  0.000000         0  0.000000  0.000000  0.000000   \n",
      "communion    0.000374  0.000000         0  0.000000  0.000000  0.000000   \n",
      "coffins      0.000000  0.000000         0  0.000000  0.000000  0.000000   \n",
      "gehlen       0.000000  0.000000         0  0.000000  0.000000  0.000000   \n",
      "prostate     0.000000  0.000000         0  0.000000  0.000625  0.000000   \n",
      "giago        0.000000  0.000000         0  0.000000  0.000000  0.000399   \n",
      "\n",
      "             @topic_6  @topic_7  @topic_8  @topic_9  @topic_10  @topic_11  \\\n",
      "children     0.000000  0.000000  0.000000  0.000000   0.000000   0.000046   \n",
      "felt         0.000000  0.000349  0.000605  0.000000   0.000000   0.000000   \n",
      "armstrong    0.000000  0.000000  0.000000  0.000000   0.000435   0.000000   \n",
      "bush         0.000000  0.000000  0.000000  0.000000   0.000000   0.000000   \n",
      "effect       0.000612  0.000000  0.000000  0.000274   0.000682   0.000498   \n",
      "costs        0.000000  0.002859  0.000000  0.000000   0.000000   0.000000   \n",
      "preview      0.000137  0.000000  0.000000  0.000000   0.000000   0.000000   \n",
      "objective    0.000000  0.000000  0.000000  0.000000   0.000000   0.000000   \n",
      "ads          0.000000  0.000000  0.006378  0.000911   0.000000   0.000000   \n",
      "broad        0.000000  0.000000  0.000000  0.000436   0.000000   0.000000   \n",
      "polled       0.000000  0.000000  0.000000  0.000000   0.000000   0.000000   \n",
      "serve        0.000177  0.000000  0.000000  0.000482   0.000000   0.000456   \n",
      "famous       0.000000  0.000000  0.000495  0.000000   0.000000   0.000000   \n",
      "highest      0.000000  0.001585  0.000000  0.000000   0.000000   0.000000   \n",
      "dear         0.000286  0.000000  0.000000  0.000000   0.000000   0.000000   \n",
      "fools        0.000360  0.000000  0.000000  0.000000   0.000000   0.000000   \n",
      "left         0.003046  0.001023  0.001150  0.000339   0.000000   0.000125   \n",
      "turnaround   0.000000  0.000000  0.000000  0.000000   0.000000   0.000000   \n",
      "leaking      0.000000  0.000000  0.000000  0.000000   0.000000   0.000000   \n",
      "buy          0.000000  0.000000  0.001535  0.000000   0.000085   0.000000   \n",
      "token        0.000000  0.000000  0.000000  0.000000   0.000000   0.000000   \n",
      "bank         0.000000  0.000000  0.000000  0.000927   0.000000   0.000000   \n",
      "fielding     0.000000  0.000000  0.000000  0.000000   0.000000   0.000000   \n",
      "standards    0.000000  0.000950  0.000000  0.000000   0.000000   0.000000   \n",
      "airport      0.000000  0.000000  0.000028  0.000000   0.000000   0.000210   \n",
      "fight        0.000533  0.000000  0.000000  0.000679   0.000000   0.000000   \n",
      "freedom      0.000000  0.000000  0.000000  0.000211   0.000000   0.000963   \n",
      "advantage    0.000000  0.000000  0.000000  0.000767   0.000000   0.000000   \n",
      "september    0.000000  0.003593  0.000000  0.000000   0.000000   0.000945   \n",
      "single       0.000000  0.000000  0.000000  0.001148   0.000530   0.000000   \n",
      "...               ...       ...       ...       ...        ...        ...   \n",
      "patron       0.000000  0.000000  0.000000  0.000000   0.000000   0.000000   \n",
      "treason      0.000000  0.000000  0.000000  0.000000   0.000000   0.000000   \n",
      "caci         0.000000  0.000000  0.000000  0.000000   0.000000   0.000259   \n",
      "reservists   0.000000  0.000000  0.000000  0.000000   0.000000   0.000000   \n",
      "freedoms     0.000000  0.000000  0.000000  0.000000   0.000000   0.000000   \n",
      "rationales   0.000000  0.000000  0.000000  0.000000   0.000000   0.000149   \n",
      "eisenhower   0.000000  0.000000  0.000000  0.000000   0.000000   0.000000   \n",
      "oceana       0.000493  0.000000  0.000000  0.000000   0.000000   0.000000   \n",
      "charities    0.000000  0.000000  0.000000  0.000000   0.000000   0.000000   \n",
      "matrix       0.000000  0.000000  0.000000  0.000000   0.000000   0.000000   \n",
      "mojo         0.000000  0.000000  0.000000  0.000000   0.000000   0.000000   \n",
      "rices        0.000000  0.000000  0.001027  0.000000   0.000000   0.000000   \n",
      "blackwater   0.000000  0.000000  0.000000  0.000000   0.000000   0.000000   \n",
      "usaid        0.000000  0.000000  0.000000  0.000000   0.000000   0.000000   \n",
      "condis       0.000000  0.000694  0.000000  0.000000   0.000000   0.000000   \n",
      "presents     0.000000  0.000000  0.000000  0.000000   0.000000   0.000000   \n",
      "saleh        0.000000  0.000000  0.000000  0.000000   0.000000   0.000655   \n",
      "conflicted   0.000000  0.000000  0.000000  0.000000   0.000000   0.000000   \n",
      "kroll        0.000000  0.000000  0.000000  0.000000   0.000000   0.000000   \n",
      "stagflation  0.000000  0.000000  0.000000  0.000509   0.000000   0.000000   \n",
      "imam         0.000000  0.000000  0.000000  0.000000   0.000000   0.000000   \n",
      "liebeck      0.000000  0.000000  0.000000  0.000000   0.000000   0.000000   \n",
      "stella       0.000000  0.000000  0.000000  0.000000   0.000000   0.000000   \n",
      "allday       0.000000  0.000000  0.000000  0.000000   0.000000   0.000000   \n",
      "murdoch      0.000213  0.000000  0.000000  0.000007   0.000000   0.000000   \n",
      "communion    0.000000  0.000000  0.000000  0.000000   0.000000   0.000000   \n",
      "coffins      0.000000  0.000000  0.000000  0.000000   0.000000   0.000215   \n",
      "gehlen       0.000000  0.000000  0.000000  0.000000   0.000000   0.000000   \n",
      "prostate     0.000000  0.000000  0.000000  0.000000   0.000000   0.000000   \n",
      "giago        0.000000  0.000000  0.000000  0.000000   0.000000   0.000000   \n",
      "\n",
      "             @topic_12  @topic_13  @topic_14  \n",
      "children      0.000000   0.000000   0.000000  \n",
      "felt          0.000000   0.000526   0.000000  \n",
      "armstrong     0.000192   0.000000   0.000000  \n",
      "bush          0.000000   0.000000   0.000000  \n",
      "effect        0.000000   0.000088   0.000000  \n",
      "costs         0.000000   0.000000   0.000000  \n",
      "preview       0.000000   0.000000   0.000000  \n",
      "objective     0.000000   0.000000   0.000440  \n",
      "ads           0.001590   0.000000   0.000146  \n",
      "broad         0.000000   0.000000   0.000000  \n",
      "polled        0.001564   0.000000   0.000000  \n",
      "serve         0.000000   0.000648   0.000000  \n",
      "famous        0.000000   0.000727   0.000000  \n",
      "highest       0.000000   0.000000   0.000594  \n",
      "dear          0.000000   0.000000   0.000000  \n",
      "fools         0.000000   0.000000   0.000000  \n",
      "left          0.000000   0.000443   0.000397  \n",
      "turnaround    0.000000   0.000000   0.000054  \n",
      "leaking       0.000000   0.000000   0.000000  \n",
      "buy           0.000000   0.000000   0.000000  \n",
      "token         0.000000   0.000166   0.000000  \n",
      "bank          0.000000   0.000000   0.000000  \n",
      "fielding      0.000000   0.000000   0.000000  \n",
      "standards     0.000000   0.001330   0.000000  \n",
      "airport       0.000000   0.000868   0.000000  \n",
      "fight         0.000000   0.000878   0.000000  \n",
      "freedom       0.000000   0.000000   0.000000  \n",
      "advantage     0.002066   0.000000   0.001252  \n",
      "september     0.002696   0.000000   0.000610  \n",
      "single        0.000000   0.000000   0.000000  \n",
      "...                ...        ...        ...  \n",
      "patron        0.000000   0.000000   0.000000  \n",
      "treason       0.000000   0.000349   0.000000  \n",
      "caci          0.000000   0.000000   0.000000  \n",
      "reservists    0.000000   0.000508   0.000000  \n",
      "freedoms      0.000000   0.000000   0.000000  \n",
      "rationales    0.000000   0.000000   0.000000  \n",
      "eisenhower    0.000000   0.000000   0.000000  \n",
      "oceana        0.000000   0.000000   0.000000  \n",
      "charities     0.000000   0.000389   0.000000  \n",
      "matrix        0.000000   0.000000   0.000000  \n",
      "mojo          0.000000   0.000000   0.000000  \n",
      "rices         0.000000   0.000000   0.000000  \n",
      "blackwater    0.000000   0.000000   0.000000  \n",
      "usaid         0.000000   0.000000   0.000000  \n",
      "condis        0.000000   0.000000   0.000000  \n",
      "presents      0.000000   0.000349   0.000000  \n",
      "saleh         0.000000   0.000000   0.000000  \n",
      "conflicted    0.000000   0.000000   0.000000  \n",
      "kroll         0.000000   0.000000   0.000000  \n",
      "stagflation   0.000000   0.000000   0.000000  \n",
      "imam          0.000000   0.000000   0.000000  \n",
      "liebeck       0.000000   0.000000   0.000000  \n",
      "stella        0.000000   0.000000   0.000000  \n",
      "allday        0.000000   0.000349   0.000000  \n",
      "murdoch       0.000000   0.000000   0.000000  \n",
      "communion     0.000000   0.000000   0.000000  \n",
      "coffins       0.000000   0.000000   0.000000  \n",
      "gehlen        0.000000   0.000468   0.000000  \n",
      "prostate      0.000000   0.000000   0.000000  \n",
      "giago         0.000000   0.000000   0.000000  \n",
      "\n",
      "[6906 rows x 15 columns]\n"
     ]
    }
   ],
   "source": [
    "print model_artm.phi_"
   ]
  },
  {
   "cell_type": "markdown",
   "metadata": {},
   "source": [
    "Модель можно сохранить с возможностью последующей загрузки:"
   ]
  },
  {
   "cell_type": "code",
   "execution_count": 19,
   "metadata": {
    "collapsed": false
   },
   "outputs": [],
   "source": [
    "model_artm.save(filename='kos_artm_model')  # save the model to disk\n",
    "\n",
    "# model = artm.ARTM(...)                    # create new model\n",
    "# model.load(filename='kos_artm_model')     # load saved model into new instance"
   ]
  },
  {
   "cell_type": "markdown",
   "metadata": {},
   "source": [
    "Дополнительно извлечём $\\Theta$ в виде pandas.DataFrame и напечатаем её:"
   ]
  },
  {
   "cell_type": "code",
   "execution_count": 20,
   "metadata": {
    "collapsed": false,
    "scrolled": true
   },
   "outputs": [
    {
     "name": "stdout",
     "output_type": "stream",
     "text": [
      "               2001      2002      2003      2004      2005      2006  \\\n",
      "@topic_0   0.110953  0.067653  0.000000  0.000000  0.000000  0.000000   \n",
      "@topic_1   0.000000  0.000000  0.000000  0.048701  0.000000  0.000000   \n",
      "@topic_2   0.000000  0.000000  0.000000  0.000000  0.000000  0.737427   \n",
      "@topic_3   0.253281  0.000000  0.000000  0.003071  0.000000  0.000000   \n",
      "@topic_4   0.000000  0.000000  0.000000  0.083544  0.000000  0.000000   \n",
      "@topic_5   0.143262  0.000000  0.291949  0.025693  0.319195  0.000000   \n",
      "@topic_6   0.081114  0.407219  0.216074  0.059110  0.177984  0.000000   \n",
      "@topic_7   0.000000  0.000000  0.000000  0.098996  0.000000  0.000000   \n",
      "@topic_8   0.099250  0.256102  0.190394  0.035146  0.000000  0.000000   \n",
      "@topic_9   0.262157  0.038052  0.000000  0.249853  0.000000  0.000000   \n",
      "@topic_10  0.036377  0.044992  0.301582  0.000000  0.210815  0.262573   \n",
      "@topic_11  0.000000  0.000000  0.000000  0.134788  0.000000  0.000000   \n",
      "@topic_12  0.000000  0.185982  0.000000  0.078761  0.292005  0.000000   \n",
      "@topic_13  0.000000  0.000000  0.000000  0.114373  0.000000  0.000000   \n",
      "@topic_14  0.013606  0.000000  0.000000  0.067964  0.000000  0.000000   \n",
      "\n",
      "               2007      2008      2009      2010    ...         1491  \\\n",
      "@topic_0   0.091991  0.000000  0.171180  0.000000    ...     0.037444   \n",
      "@topic_1   0.075579  0.000000  0.026076  0.000000    ...     0.064386   \n",
      "@topic_2   0.000000  0.000000  0.000000  0.000000    ...     0.000000   \n",
      "@topic_3   0.000000  0.000000  0.000000  0.000000    ...     0.000000   \n",
      "@topic_4   0.015303  0.030493  0.070365  0.185136    ...     0.090839   \n",
      "@topic_5   0.163692  0.551987  0.045105  0.330904    ...     0.045584   \n",
      "@topic_6   0.360429  0.104727  0.133928  0.194301    ...     0.010544   \n",
      "@topic_7   0.000000  0.000000  0.297091  0.000000    ...     0.148900   \n",
      "@topic_8   0.142103  0.092399  0.055198  0.248120    ...     0.025816   \n",
      "@topic_9   0.044429  0.000000  0.046317  0.000000    ...     0.021300   \n",
      "@topic_10  0.006381  0.220394  0.000000  0.000000    ...     0.000000   \n",
      "@topic_11  0.025690  0.000000  0.145396  0.041539    ...     0.315126   \n",
      "@topic_12  0.074402  0.000000  0.000000  0.000000    ...     0.041341   \n",
      "@topic_13  0.000000  0.000000  0.009344  0.000000    ...     0.198720   \n",
      "@topic_14  0.000000  0.000000  0.000000  0.000000    ...     0.000000   \n",
      "\n",
      "               1492      1493      1494      1495      1496      1497  \\\n",
      "@topic_0   0.336033  0.045006  0.120311  0.027720  0.044953  0.126368   \n",
      "@topic_1   0.000000  0.000000  0.000000  0.000000  0.027660  0.016796   \n",
      "@topic_2   0.008940  0.006042  0.000000  0.459503  0.000000  0.000000   \n",
      "@topic_3   0.043689  0.000000  0.295034  0.041931  0.000000  0.162151   \n",
      "@topic_4   0.000000  0.000000  0.000000  0.000000  0.000000  0.000000   \n",
      "@topic_5   0.000000  0.000000  0.000000  0.000000  0.000000  0.015528   \n",
      "@topic_6   0.000000  0.172158  0.260484  0.034052  0.000000  0.000000   \n",
      "@topic_7   0.000000  0.158126  0.035895  0.119601  0.445351  0.063355   \n",
      "@topic_8   0.000000  0.000000  0.000000  0.042226  0.000000  0.039347   \n",
      "@topic_9   0.378510  0.014273  0.170290  0.092272  0.112317  0.096874   \n",
      "@topic_10  0.000000  0.000000  0.117985  0.131915  0.044372  0.053104   \n",
      "@topic_11  0.081350  0.000000  0.000000  0.033663  0.138297  0.176073   \n",
      "@topic_12  0.036624  0.104368  0.000000  0.005125  0.000000  0.101810   \n",
      "@topic_13  0.114853  0.000000  0.000000  0.000000  0.187052  0.140324   \n",
      "@topic_14  0.000000  0.500028  0.000000  0.011993  0.000000  0.008269   \n",
      "\n",
      "               1498      1499      1500  \n",
      "@topic_0   0.319697  0.045705  0.000000  \n",
      "@topic_1   0.000000  0.084362  0.000000  \n",
      "@topic_2   0.000000  0.000000  0.000000  \n",
      "@topic_3   0.152723  0.160072  0.000000  \n",
      "@topic_4   0.000000  0.003354  0.000000  \n",
      "@topic_5   0.000000  0.000000  0.124788  \n",
      "@topic_6   0.000000  0.017301  0.000000  \n",
      "@topic_7   0.000000  0.079714  0.044368  \n",
      "@topic_8   0.000000  0.051614  0.108233  \n",
      "@topic_9   0.440007  0.140732  0.096457  \n",
      "@topic_10  0.087573  0.000000  0.000000  \n",
      "@topic_11  0.000000  0.330260  0.164678  \n",
      "@topic_12  0.000000  0.000000  0.000000  \n",
      "@topic_13  0.000000  0.086886  0.276205  \n",
      "@topic_14  0.000000  0.000000  0.185270  \n",
      "\n",
      "[15 rows x 3430 columns]\n"
     ]
    }
   ],
   "source": [
    "theta_matrix = model_artm.fit_transform()\n",
    "print theta_matrix"
   ]
  },
  {
   "cell_type": "markdown",
   "metadata": {},
   "source": [
    "Можно использовать модель для определения векторов $\\theta_d$ для новых документов с помощью метода ARTM.transform():"
   ]
  },
  {
   "cell_type": "code",
   "execution_count": 21,
   "metadata": {
    "collapsed": false,
    "scrolled": true
   },
   "outputs": [
    {
     "name": "stdout",
     "output_type": "stream",
     "text": [
      "Empty DataFrame\n",
      "Columns: []\n",
      "Index: []\n"
     ]
    }
   ],
   "source": [
    "test_batch_vectorizer = artm.BatchVectorizer(data_format='batches', data_path='kos_test', batches=['test_docs.batch'])\n",
    "test_theta_matrix = model_artm.transform(batch_vectorizer=test_batch_vectorizer)\n",
    "print test_theta_matrix"
   ]
  },
  {
   "cell_type": "markdown",
   "metadata": {},
   "source": [
    "#### Выводы\n",
    "\n",
    "Задача построения тематической модели имеет бесконечно большое множество решений. Это даёт большую свободу действий, и регуляризаторы позволяют использовать её для получения результата, удовлетворяющего сразу нескольким требованиям (разреженность, интерпретируемость, удовлетворительное значение перплексии и т.п.).\n",
    "\n",
    "Приведённый выше пример является демонстрационным, можно пробовать более гибкие стратегии регуляризации для получения ещё более хорошего результата. По аналогичной схеме можно производить эксперименты с более крупными коллекциями."
   ]
  }
 ],
 "metadata": {
  "kernelspec": {
   "display_name": "Python 2",
   "language": "python",
   "name": "python2"
  },
  "language_info": {
   "codemirror_mode": {
    "name": "ipython",
    "version": 2
   },
   "file_extension": ".py",
   "mimetype": "text/x-python",
   "name": "python",
   "nbconvert_exporter": "python",
   "pygments_lexer": "ipython2",
   "version": "2.7.10"
  }
 },
 "nbformat": 4,
 "nbformat_minor": 0
}
