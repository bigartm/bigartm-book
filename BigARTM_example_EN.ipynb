{
 "cells": [
  {
   "cell_type": "markdown",
   "metadata": {},
   "source": [
    "# BigARTM new Python API."
   ]
  },
  {
   "cell_type": "markdown",
   "metadata": {},
   "source": [
    "## Example #1"
   ]
  },
  {
   "cell_type": "markdown",
   "metadata": {},
   "source": [
    "This paper provides simple example of usage of new Python API. We will learn a model on the small dataset 'kos'.\n",
    "Let's make necessary imports at first (notice that you should have BigARTM Python API installed in your environment):"
   ]
  },
  {
   "cell_type": "code",
   "execution_count": 3,
   "metadata": {
    "collapsed": false
   },
   "outputs": [],
   "source": [
    "%matplotlib inline\n",
    "import glob\n",
    "import matplotlib.pyplot as plt\n",
    "\n",
    "import artm"
   ]
  },
  {
   "cell_type": "markdown",
   "metadata": {
    "collapsed": false
   },
   "source": [
    "The first step is to create a topic model. New API allows us to do it as a single line:"
   ]
  },
  {
   "cell_type": "code",
   "execution_count": 4,
   "metadata": {
    "collapsed": false
   },
   "outputs": [],
   "source": [
    "model = artm.ARTM(num_topics=15,\n",
    "                  scores=[artm.PerplexityScore(name='PerplexityScore')],\n",
    "                  regularizers=[artm.SmoothSparseThetaRegularizer(name='SparseTheta', tau=-2.0)])"
   ]
  },
  {
   "cell_type": "markdown",
   "metadata": {},
   "source": [
    "ARTM is an object contains all information about current topic model state. You're able to add regularizers and metrics directly in the constructor, as showen in this example.\n",
    "\n",
    "First of all we need to create an object of BatchVectorizer class representing the library input data. According to existence of batches we create it using them or by parsing 'docword' and 'vocab' files in UCI format:"
   ]
  },
  {
   "cell_type": "code",
   "execution_count": 5,
   "metadata": {
    "collapsed": false
   },
   "outputs": [],
   "source": [
    "batch_vectorizer = None\n",
    "if len(glob.glob('kos' + \"/*.batch\")) < 1:\n",
    "    batch_vectorizer = artm.BatchVectorizer(data_path='', data_format='bow_uci', collection_name='kos', target_folder='kos')\n",
    "else:\n",
    "    batch_vectorizer = artm.BatchVectorizer(data_path='kos', data_format='batches')"
   ]
  },
  {
   "cell_type": "markdown",
   "metadata": {},
   "source": [
    "Next step is to initilize model with collection dictionary. It means, that \n",
    "- Phi matrix 'pwt' will be created in appliance with number of tokens in dictionary and topics count in model\n",
    "- This matrix will be filled with random numbers in (0, 1) and normalized\n",
    "\n",
    "Note that this step is optional, because the model can be auto-initialized during fit_offline() / fit_online() call."
   ]
  },
  {
   "cell_type": "code",
   "execution_count": 6,
   "metadata": {
    "collapsed": false
   },
   "outputs": [],
   "source": [
    "# Use the following steps to gather the dictionary:\n",
    "# model.gather_dictionary(\"dictionary\", batch_vectorizer.data_path)\n",
    "# model.save_dictionary(dictionary_name='dictionary', dictionary_path='kos/dictionary.dict')\n",
    "\n",
    "model.load_dictionary(dictionary_name='dictionary', dictionary_path='kos/dictionary.dict')\n",
    "model.initialize(dictionary_name='dictionary')"
   ]
  },
  {
   "cell_type": "markdown",
   "metadata": {},
   "source": [
    "ARTM provides all model scores, that exists in BigARTM. If you have applied the score to the model, the model will save it's values on every update of Phi matrix. You can add regularizers and metrics after constructor call.\n",
    "\n",
    "In order to control the quality of the model we will add two more scores to it:"
   ]
  },
  {
   "cell_type": "code",
   "execution_count": 5,
   "metadata": {
    "collapsed": true
   },
   "outputs": [],
   "source": [
    "model.scores.add(artm.SparsityPhiScore(name='SparsityPhiScore'))\n",
    "model.scores.add(artm.SparsityThetaScore(name='SparsityThetaScore'))"
   ]
  },
  {
   "cell_type": "markdown",
   "metadata": {},
   "source": [
    "Also it is usefull to add basic regularizers to improve sparsity and variance of the topics (we will set some initial tau coeffitients for the regularizers, they can be changed in future)"
   ]
  },
  {
   "cell_type": "code",
   "execution_count": 6,
   "metadata": {
    "collapsed": false
   },
   "outputs": [],
   "source": [
    "model.regularizers.add(artm.SmoothSparsePhiRegularizer(name='SparsePhi', tau=-0.1))\n",
    "model.regularizers.add(artm.DecorrelatorPhiRegularizer(name='DecorrelatorPhi', tau=100000.0))"
   ]
  },
  {
   "cell_type": "markdown",
   "metadata": {},
   "source": [
    "Now let's try to learn the model in the offline mode (e.g. with one Phi update during one scan of the whole collection). We will invoke 5 scans:"
   ]
  },
  {
   "cell_type": "code",
   "execution_count": 7,
   "metadata": {
    "collapsed": false
   },
   "outputs": [],
   "source": [
    "model.fit_offline(batch_vectorizer=batch_vectorizer, num_collection_passes=5)"
   ]
  },
  {
   "cell_type": "markdown",
   "metadata": {},
   "source": [
    "Let's check the result of the first iteration of learning:"
   ]
  },
  {
   "cell_type": "code",
   "execution_count": 8,
   "metadata": {
    "collapsed": false
   },
   "outputs": [
    {
     "name": "stdout",
     "output_type": "stream",
     "text": [
      "Sparsity Phi:0.420696978473\n",
      "Sparsity Theta:0.703848396501\n"
     ]
    }
   ],
   "source": [
    "print 'Sparsity Phi:' + str(model.score_tracker['SparsityPhiScore'].last_value)\n",
    "print 'Sparsity Theta:' + str(model.score_tracker['SparsityThetaScore'].last_value)"
   ]
  },
  {
   "cell_type": "markdown",
   "metadata": {},
   "source": [
    "We can see, that sparsity levels of both Phi and Theta are too low. Let's increase (in modulus) the coefficients of regularization for sparsity regularizers:"
   ]
  },
  {
   "cell_type": "code",
   "execution_count": 9,
   "metadata": {
    "collapsed": true
   },
   "outputs": [],
   "source": [
    "model.regularizers['SparsePhi'].tau = -0.4\n",
    "model.regularizers['SparseTheta'].tau = -3.0"
   ]
  },
  {
   "cell_type": "markdown",
   "metadata": {},
   "source": [
    "Also it will be useful to add new score 'TopTokensScore'. It will allow us to see the most probable tokens in each topic"
   ]
  },
  {
   "cell_type": "code",
   "execution_count": 10,
   "metadata": {
    "collapsed": true
   },
   "outputs": [],
   "source": [
    "model.scores.add(artm.TopTokensScore(name='TopTokensScore', num_tokens=5))"
   ]
  },
  {
   "cell_type": "markdown",
   "metadata": {},
   "source": [
    "Next we will continue the learning of our model, 15 scans of the collection will be invoked now"
   ]
  },
  {
   "cell_type": "code",
   "execution_count": 11,
   "metadata": {
    "collapsed": false
   },
   "outputs": [],
   "source": [
    "model.fit_offline(batch_vectorizer=batch_vectorizer, num_collection_passes=15)"
   ]
  },
  {
   "cell_type": "code",
   "execution_count": 12,
   "metadata": {
    "collapsed": false
   },
   "outputs": [
    {
     "name": "stdout",
     "output_type": "stream",
     "text": [
      "Sparsity Phi:0.627425427165\n",
      "Sparsity Theta:0.797329446064\n"
     ]
    }
   ],
   "source": [
    "print 'Sparsity Phi:' + str(model.score_tracker['SparsityPhiScore'].last_value)\n",
    "print 'Sparsity Theta:' + str(model.score_tracker['SparsityThetaScore'].last_value)"
   ]
  },
  {
   "cell_type": "markdown",
   "metadata": {},
   "source": [
    "The sparsity is still unsatisfactory. Let's try new tau coefficients and continue model learning:"
   ]
  },
  {
   "cell_type": "code",
   "execution_count": 13,
   "metadata": {
    "collapsed": false
   },
   "outputs": [],
   "source": [
    "model.regularizers['SparsePhi'].tau = -1.5\n",
    "model.regularizers['SparseTheta'].tau = -5.0\n",
    "model.fit_offline(batch_vectorizer=batch_vectorizer, num_collection_passes=15)"
   ]
  },
  {
   "cell_type": "markdown",
   "metadata": {},
   "source": [
    "Let's plot perplexity and sparsity of the model to check it's quality:"
   ]
  },
  {
   "cell_type": "code",
   "execution_count": 14,
   "metadata": {
    "collapsed": false
   },
   "outputs": [
    {
     "data": {
      "image/png": "[encoded data removed]",
      "text/plain": [
       "<matplotlib.figure.Figure at 0x917b270>"
      ]
     },
     "metadata": {},
     "output_type": "display_data"
    }
   ],
   "source": [
    "plt.plot(xrange(model.num_phi_updates), model.score_tracker['PerplexityScore'].value, 'r--', linewidth=2)\n",
    "plt.xlabel('Iterations count')\n",
    "plt.ylabel('Perplexity')\n",
    "plt.grid(True)\n",
    "plt.show()"
   ]
  },
  {
   "cell_type": "code",
   "execution_count": 15,
   "metadata": {
    "collapsed": false
   },
   "outputs": [
    {
     "data": {
      "image/png": "[encoded data removed]",
      "text/plain": [
       "<matplotlib.figure.Figure at 0x92b60d0>"
      ]
     },
     "metadata": {},
     "output_type": "display_data"
    }
   ],
   "source": [
    "plt.plot(xrange(model.num_phi_updates), model.score_tracker['SparsityPhiScore'].value, 'b--',\n",
    "         xrange(model.num_phi_updates), model.score_tracker['SparsityThetaScore'].value, 'r--', linewidth=2)\n",
    "plt.xlabel('Iterations count')\n",
    "plt.ylabel('Phi sparsity, Theta sparsity')\n",
    "plt.grid(True)\n",
    "plt.show()"
   ]
  },
  {
   "cell_type": "markdown",
   "metadata": {},
   "source": [
    "For such small collection the sparsity is enough. Next step is to visualize the top tokens:"
   ]
  },
  {
   "cell_type": "code",
   "execution_count": 16,
   "metadata": {
    "collapsed": false
   },
   "outputs": [
    {
     "name": "stdout",
     "output_type": "stream",
     "text": [
      "@topic_0:  [u'bush', u'rights', u'law', u'states', u'court']\n",
      "@topic_1:  [u'iraq', u'iraqi', u'war', u'military', u'troops']\n",
      "@topic_2:  [u'november', u'poll', u'electoral', u'governor', u'account']\n",
      "@topic_3:  [u'senate', u'republican', u'carson', u'debate', u'coburn']\n",
      "@topic_4:  [u'specter', u'toomey', u'hoeffel', u'workers', u'sessions']\n",
      "@topic_5:  [u'dean', u'edwards', u'kerry', u'clark', u'primary']\n",
      "@topic_6:  [u'state', u'race', u'senate', u'nader', u'candidate']\n",
      "@topic_7:  [u'jobs', u'administration', u'years', u'billion', u'bush']\n",
      "@topic_8:  [u'campaign', u'party', u'dean', u'democratic', u'unions']\n",
      "@topic_9:  [u'house', u'republican', u'million', u'democrats', u'money']\n",
      "@topic_10:  [u'november', u'voting', u'vote', u'account', u'electoral']\n",
      "@topic_11:  [u'bush', u'iraq', u'war', u'administration', u'president']\n",
      "@topic_12:  [u'bush', u'kerry', u'poll', u'percent', u'voters']\n",
      "@topic_13:  [u'media', u'time', u'news', u'people', u'house']\n",
      "@topic_14:  [u'bush', u'kerry', u'guard', u'general', u'voters']\n"
     ]
    }
   ],
   "source": [
    "for topic_name in model.topic_names:\n",
    "    print topic_name + ': ',\n",
    "    print model.score_tracker['TopTokensScore'].last_topic_info[topic_name].tokens"
   ]
  },
  {
   "cell_type": "markdown",
   "metadata": {},
   "source": [
    "Let's extract Phi matrix as pandas.DataFrame and print it (you can extract the parts of the Phi matrix using ARTM.get_phi() method if you need it):"
   ]
  },
  {
   "cell_type": "code",
   "execution_count": 17,
   "metadata": {
    "collapsed": false
   },
   "outputs": [
    {
     "name": "stdout",
     "output_type": "stream",
     "text": [
      "            @topic_0  @topic_1  @topic_2  @topic_3  @topic_4  @topic_5  \\\n",
      "aarp        0.000000  0.000000  0.000000  0.000000  0.000000  0.000000   \n",
      "abandon     0.000493  0.000000  0.000000  0.000153  0.000000  0.000000   \n",
      "abandoned   0.000000  0.000203  0.000000  0.000000  0.000000  0.000000   \n",
      "abandoning  0.000024  0.000000  0.000000  0.000000  0.000000  0.000094   \n",
      "abb         0.000456  0.000000  0.000000  0.000000  0.000000  0.000000   \n",
      "abc         0.000000  0.000000  0.000000  0.000000  0.000000  0.000000   \n",
      "abcs        0.000000  0.000000  0.000000  0.000000  0.000000  0.000000   \n",
      "abdullah    0.000000  0.000000  0.000000  0.000000  0.000000  0.000000   \n",
      "ability     0.000441  0.000000  0.000000  0.000000  0.000000  0.000203   \n",
      "aboard      0.000000  0.000000  0.000000  0.000000  0.000000  0.000000   \n",
      "abortion    0.002729  0.000000  0.000000  0.000251  0.000000  0.000000   \n",
      "abortions   0.000425  0.000000  0.000000  0.000000  0.000000  0.000000   \n",
      "abraham     0.000000  0.000000  0.000000  0.000000  0.000000  0.000000   \n",
      "abrams      0.000000  0.000000  0.000000  0.000000  0.000000  0.000000   \n",
      "abroad      0.000000  0.000000  0.000000  0.000064  0.000000  0.000000   \n",
      "absence     0.000000  0.000000  0.000000  0.000223  0.000000  0.000021   \n",
      "absent      0.000000  0.000000  0.000000  0.000000  0.000000  0.000000   \n",
      "absentee    0.000000  0.000000  0.000152  0.000000  0.000000  0.000000   \n",
      "absolute    0.000000  0.000000  0.000000  0.000000  0.000000  0.000000   \n",
      "absolutely  0.000143  0.000000  0.000000  0.000152  0.000000  0.000111   \n",
      "abstain     0.000000  0.000000  0.000000  0.000000  0.000000  0.000000   \n",
      "absurd      0.000000  0.000000  0.000000  0.000078  0.000000  0.000000   \n",
      "abu         0.000000  0.000173  0.000000  0.000000  0.000000  0.000000   \n",
      "abuse       0.000000  0.000000  0.000000  0.000033  0.000000  0.000000   \n",
      "abuses      0.000000  0.001297  0.000000  0.000000  0.000000  0.000000   \n",
      "academy     0.000052  0.000067  0.000000  0.000000  0.000000  0.000187   \n",
      "accent      0.000000  0.000000  0.000000  0.000000  0.000000  0.000000   \n",
      "accept      0.000215  0.000000  0.000000  0.000000  0.000000  0.000000   \n",
      "acceptable  0.000258  0.000000  0.000000  0.000000  0.000000  0.000000   \n",
      "acceptance  0.000000  0.000000  0.000000  0.000067  0.001831  0.000107   \n",
      "...              ...       ...       ...       ...       ...       ...   \n",
      "yanks       0.000000  0.000000  0.000000  0.000000  0.000000  0.000000   \n",
      "yard        0.000000  0.000000  0.000000  0.000000  0.000000  0.000000   \n",
      "yeah        0.000000  0.000000  0.000000  0.000710  0.000000  0.000389   \n",
      "year        0.001976  0.001750  0.000000  0.000536  0.000000  0.000633   \n",
      "years       0.003710  0.000000  0.000000  0.001220  0.000000  0.000494   \n",
      "yell        0.000051  0.000000  0.000000  0.000000  0.000000  0.000181   \n",
      "yellin      0.000000  0.000000  0.000000  0.000000  0.000000  0.000500   \n",
      "yesterday   0.000435  0.000604  0.000000  0.000692  0.003838  0.000298   \n",
      "yesterdays  0.000000  0.000295  0.000000  0.000000  0.000000  0.000021   \n",
      "yield       0.000217  0.000000  0.000000  0.000000  0.000000  0.000000   \n",
      "york        0.000000  0.000000  0.001126  0.000026  0.002314  0.000000   \n",
      "yorker      0.000015  0.000039  0.000000  0.000000  0.000000  0.000000   \n",
      "yorkers     0.000000  0.000000  0.000078  0.000000  0.000810  0.000000   \n",
      "youd        0.000000  0.000000  0.000000  0.000093  0.000000  0.000000   \n",
      "youll       0.000416  0.000000  0.000000  0.000000  0.000000  0.000149   \n",
      "young       0.000333  0.000972  0.000000  0.001273  0.002482  0.000118   \n",
      "younger     0.000425  0.000000  0.000000  0.000000  0.000000  0.000177   \n",
      "youre       0.000242  0.000000  0.000317  0.001381  0.001675  0.000111   \n",
      "youth       0.000000  0.000068  0.000000  0.000053  0.000161  0.000000   \n",
      "youve       0.000139  0.000000  0.000000  0.000306  0.000000  0.000000   \n",
      "yucca       0.000000  0.000000  0.000000  0.000000  0.000000  0.000000   \n",
      "yup         0.000000  0.000000  0.000000  0.000000  0.000000  0.000000   \n",
      "zahn        0.000000  0.000000  0.000000  0.000000  0.000000  0.000000   \n",
      "zarqawi     0.000000  0.000000  0.000000  0.000000  0.000000  0.000000   \n",
      "zell        0.000000  0.000000  0.000000  0.002743  0.000000  0.000000   \n",
      "zimbabwe    0.000000  0.000290  0.000000  0.000000  0.000000  0.000000   \n",
      "zogby       0.000000  0.000000  0.003893  0.000000  0.000000  0.003803   \n",
      "zogbys      0.000000  0.000000  0.000000  0.000000  0.000000  0.000574   \n",
      "zone        0.000000  0.000902  0.000055  0.000000  0.000000  0.000166   \n",
      "zones       0.000000  0.000000  0.000000  0.000000  0.000000  0.000000   \n",
      "\n",
      "            @topic_6  @topic_7  @topic_8  @topic_9  @topic_10  @topic_11  \\\n",
      "aarp        0.000000  0.000000  0.000000  0.000000   0.000000   0.000000   \n",
      "abandon     0.000083  0.000000  0.000000  0.000000   0.000000   0.000000   \n",
      "abandoned   0.000000  0.000408  0.000253  0.000000   0.000000   0.000000   \n",
      "abandoning  0.000000  0.000000  0.000000  0.000000   0.000000   0.000000   \n",
      "abb         0.000000  0.000000  0.000146  0.000000   0.000000   0.000000   \n",
      "abc         0.000000  0.000000  0.002203  0.000000   0.000065   0.000163   \n",
      "abcs        0.000000  0.000143  0.000000  0.000000   0.000000   0.000000   \n",
      "abdullah    0.000000  0.000000  0.000000  0.000000   0.000000   0.000106   \n",
      "ability     0.000643  0.000000  0.000578  0.000293   0.000000   0.000409   \n",
      "aboard      0.000000  0.000000  0.000000  0.000000   0.000000   0.000206   \n",
      "abortion    0.000530  0.000000  0.000000  0.000000   0.000000   0.000008   \n",
      "abortions   0.000000  0.000000  0.000000  0.000000   0.000000   0.000000   \n",
      "abraham     0.000000  0.000000  0.000000  0.000000   0.000000   0.000181   \n",
      "abrams      0.000000  0.000000  0.000000  0.000000   0.000000   0.000193   \n",
      "abroad      0.000178  0.000385  0.000000  0.000000   0.000000   0.000286   \n",
      "absence     0.000115  0.000000  0.000000  0.000000   0.000000   0.000105   \n",
      "absent      0.000000  0.000035  0.000077  0.000114   0.000134   0.000000   \n",
      "absentee    0.000748  0.000000  0.000000  0.000000   0.000000   0.000000   \n",
      "absolute    0.000030  0.000097  0.000000  0.000082   0.000000   0.000121   \n",
      "absolutely  0.000000  0.000000  0.000000  0.000000   0.000000   0.000137   \n",
      "abstain     0.000000  0.000028  0.000000  0.000000   0.005099   0.000000   \n",
      "absurd      0.000000  0.000029  0.000026  0.000000   0.000000   0.000000   \n",
      "abu         0.000000  0.000000  0.000000  0.000000   0.000000   0.002146   \n",
      "abuse       0.000000  0.000000  0.000000  0.000051   0.000000   0.000994   \n",
      "abuses      0.000000  0.000000  0.000000  0.000051   0.000000   0.000445   \n",
      "academy     0.000000  0.000246  0.000000  0.000000   0.000000   0.000000   \n",
      "accent      0.000000  0.000000  0.000231  0.000000   0.000000   0.000000   \n",
      "accept      0.000000  0.000080  0.000000  0.000413   0.000000   0.000455   \n",
      "acceptable  0.000000  0.000000  0.000000  0.000000   0.000000   0.000117   \n",
      "acceptance  0.000000  0.000000  0.000000  0.000000   0.000000   0.000106   \n",
      "...              ...       ...       ...       ...        ...        ...   \n",
      "yanks       0.000000  0.000000  0.000057  0.000000   0.000000   0.000000   \n",
      "yard        0.000000  0.000000  0.000000  0.000000   0.000000   0.000000   \n",
      "yeah        0.000128  0.000420  0.000000  0.000461   0.000000   0.000366   \n",
      "year        0.001139  0.008240  0.001860  0.003005   0.000000   0.001444   \n",
      "years       0.001720  0.009883  0.001030  0.000984   0.000000   0.002153   \n",
      "yell        0.000000  0.000000  0.000000  0.000000   0.000000   0.000000   \n",
      "yellin      0.000000  0.000000  0.000000  0.000775   0.000000   0.000063   \n",
      "yesterday   0.000000  0.000000  0.000000  0.001112   0.000000   0.000942   \n",
      "yesterdays  0.000000  0.000036  0.000059  0.000000   0.000000   0.000000   \n",
      "yield       0.000000  0.000000  0.000000  0.000000   0.000000   0.000000   \n",
      "york        0.000000  0.000822  0.001806  0.000541   0.001355   0.000561   \n",
      "yorker      0.000000  0.000000  0.000000  0.000000   0.000000   0.000090   \n",
      "yorkers     0.000000  0.000000  0.000028  0.000000   0.000000   0.000000   \n",
      "youd        0.000228  0.000000  0.000000  0.000000   0.000000   0.000000   \n",
      "youll       0.000158  0.000000  0.000644  0.000065   0.000000   0.000222   \n",
      "young       0.000333  0.000000  0.000000  0.000255   0.000000   0.000000   \n",
      "younger     0.000000  0.000000  0.000000  0.000000   0.000000   0.000000   \n",
      "youre       0.000877  0.000000  0.000984  0.000000   0.000000   0.000547   \n",
      "youth       0.000000  0.000000  0.000000  0.000000   0.000000   0.000000   \n",
      "youve       0.000000  0.000000  0.000548  0.000436   0.000000   0.000538   \n",
      "yucca       0.000000  0.000000  0.000000  0.000000   0.000000   0.000000   \n",
      "yup         0.000000  0.000000  0.000000  0.000050   0.000000   0.000013   \n",
      "zahn        0.000000  0.000000  0.000000  0.000000   0.000000   0.000044   \n",
      "zarqawi     0.000000  0.000000  0.000000  0.000000   0.000000   0.000281   \n",
      "zell        0.000000  0.000000  0.000155  0.000000   0.000000   0.000000   \n",
      "zimbabwe    0.000000  0.000000  0.000000  0.000000   0.000000   0.000000   \n",
      "zogby       0.000000  0.000000  0.000000  0.000000   0.000000   0.000097   \n",
      "zogbys      0.000000  0.000000  0.000000  0.000000   0.000000   0.000000   \n",
      "zone        0.000222  0.000000  0.000000  0.000000   0.000000   0.000000   \n",
      "zones       0.000000  0.000000  0.000000  0.000000   0.000000   0.000118   \n",
      "\n",
      "            @topic_12  @topic_13  @topic_14  \n",
      "aarp         0.000000   0.000467   0.000000  \n",
      "abandon      0.000000   0.000000   0.000000  \n",
      "abandoned    0.000000   0.000000   0.000212  \n",
      "abandoning   0.000196   0.000000   0.000000  \n",
      "abb          0.000000   0.000000   0.000000  \n",
      "abc          0.000821   0.000000   0.000183  \n",
      "abcs         0.000151   0.000000   0.000000  \n",
      "abdullah     0.000000   0.000000   0.000000  \n",
      "ability      0.000202   0.000141   0.000000  \n",
      "aboard       0.000000   0.000000   0.000000  \n",
      "abortion     0.000000   0.000000   0.000000  \n",
      "abortions    0.000000   0.000000   0.000000  \n",
      "abraham      0.000000   0.000000   0.000000  \n",
      "abrams       0.000000   0.000000   0.000000  \n",
      "abroad       0.000000   0.000000   0.000170  \n",
      "absence      0.000000   0.000000   0.000000  \n",
      "absent       0.000000   0.000000   0.000044  \n",
      "absentee     0.000000   0.000000   0.000000  \n",
      "absolute     0.000000   0.000206   0.000000  \n",
      "absolutely   0.000063   0.000000   0.000183  \n",
      "abstain      0.000000   0.000000   0.000000  \n",
      "absurd       0.000013   0.000000   0.000000  \n",
      "abu          0.000000   0.000000   0.000000  \n",
      "abuse        0.000000   0.000526   0.000000  \n",
      "abuses       0.000000   0.000000   0.000000  \n",
      "academy      0.000000   0.000000   0.000000  \n",
      "accent       0.000000   0.000000   0.000222  \n",
      "accept       0.000148   0.000000   0.000000  \n",
      "acceptable   0.000000   0.000000   0.000000  \n",
      "acceptance   0.000077   0.000000   0.000402  \n",
      "...               ...        ...        ...  \n",
      "yanks        0.000046   0.000200   0.000000  \n",
      "yard         0.000000   0.000000   0.000267  \n",
      "yeah         0.000377   0.000000   0.000000  \n",
      "year         0.001701   0.000904   0.002319  \n",
      "years        0.001472   0.001765   0.005770  \n",
      "yell         0.000000   0.000000   0.000000  \n",
      "yellin       0.000000   0.000000   0.000000  \n",
      "yesterday    0.000371   0.001226   0.000587  \n",
      "yesterdays   0.000317   0.000000   0.000000  \n",
      "yield        0.000084   0.000000   0.000000  \n",
      "york         0.000592   0.002539   0.001973  \n",
      "yorker       0.000000   0.000000   0.000000  \n",
      "yorkers      0.000000   0.000000   0.000000  \n",
      "youd         0.000150   0.000230   0.000000  \n",
      "youll        0.000000   0.000403   0.000000  \n",
      "young        0.000304   0.001247   0.000000  \n",
      "younger      0.000152   0.000000   0.000000  \n",
      "youre        0.000342   0.002031   0.000118  \n",
      "youth        0.000000   0.000000   0.000225  \n",
      "youve        0.000232   0.000465   0.000000  \n",
      "yucca        0.000000   0.000378   0.000000  \n",
      "yup          0.000041   0.000000   0.000000  \n",
      "zahn         0.000000   0.000000   0.000000  \n",
      "zarqawi      0.000000   0.000000   0.000000  \n",
      "zell         0.000000   0.000085   0.000000  \n",
      "zimbabwe     0.000000   0.000000   0.000000  \n",
      "zogby        0.002940   0.000110   0.000000  \n",
      "zogbys       0.000294   0.000000   0.000000  \n",
      "zone         0.000139   0.000063   0.000000  \n",
      "zones        0.000000   0.000000   0.000000  \n",
      "\n",
      "[6906 rows x 15 columns]\n"
     ]
    }
   ],
   "source": [
    "print model.phi_"
   ]
  },
  {
   "cell_type": "markdown",
   "metadata": {},
   "source": [
    "Our last step is to save the model with an ability to load it back:"
   ]
  },
  {
   "cell_type": "code",
   "execution_count": 18,
   "metadata": {
    "collapsed": false
   },
   "outputs": [],
   "source": [
    "model.save(filename='kos_artm_model')"
   ]
  },
  {
   "cell_type": "markdown",
   "metadata": {},
   "source": [
    "In addition we can get the train Theta matrix of the collection:"
   ]
  },
  {
   "cell_type": "code",
   "execution_count": 19,
   "metadata": {
    "collapsed": false
   },
   "outputs": [],
   "source": [
    "theta_matrix = model.fit_transform()"
   ]
  },
  {
   "cell_type": "markdown",
   "metadata": {},
   "source": [
    "ArtmModel.fit_transform() returns Theta matrix as pandas.DataFrame object. Let's print it:"
   ]
  },
  {
   "cell_type": "code",
   "execution_count": 20,
   "metadata": {
    "collapsed": false
   },
   "outputs": [
    {
     "name": "stdout",
     "output_type": "stream",
     "text": [
      "           2001      2002  2003      2004      2005  2006      2007  2008  \\\n",
      "@topic_0      0  0.000000     0  0.000000  0.000000     0  0.000000     0   \n",
      "@topic_1      0  0.000000     0  0.258220  0.000000     0  0.000000     0   \n",
      "@topic_2      0  0.000000     0  0.000000  0.000000     1  0.000000     0   \n",
      "@topic_3      0  0.000000     0  0.000000  0.000000     0  0.000000     0   \n",
      "@topic_4      0  0.000000     0  0.000000  0.000000     0  0.000000     0   \n",
      "@topic_5      0  0.661333     1  0.093464  0.858208     0  0.000000     1   \n",
      "@topic_6      0  0.000000     0  0.000000  0.000000     0  0.505188     0   \n",
      "@topic_7      0  0.000000     0  0.456537  0.000000     0  0.000000     0   \n",
      "@topic_8      0  0.338667     0  0.000000  0.000000     0  0.313320     0   \n",
      "@topic_9      1  0.000000     0  0.000000  0.000000     0  0.000000     0   \n",
      "@topic_10     0  0.000000     0  0.000000  0.000000     0  0.000000     0   \n",
      "@topic_11     0  0.000000     0  0.191780  0.000000     0  0.000000     0   \n",
      "@topic_12     0  0.000000     0  0.000000  0.141792     0  0.000000     0   \n",
      "@topic_13     0  0.000000     0  0.000000  0.000000     0  0.181492     0   \n",
      "@topic_14     0  0.000000     0  0.000000  0.000000     0  0.000000     0   \n",
      "\n",
      "               2009  2010    ...         3421      3422      3423     3424  \\\n",
      "@topic_0   0.140610     0    ...     0.000000  0.000000  0.000000  0.00000   \n",
      "@topic_1   0.000000     0    ...     0.449362  0.054224  0.000000  0.00000   \n",
      "@topic_2   0.000000     0    ...     0.000000  0.000000  0.000000  0.00000   \n",
      "@topic_3   0.000000     0    ...     0.158101  0.000000  0.223009  0.57167   \n",
      "@topic_4   0.000000     0    ...     0.000000  0.000000  0.000000  0.00000   \n",
      "@topic_5   0.000000     0    ...     0.000000  0.000000  0.000000  0.00000   \n",
      "@topic_6   0.043619     0    ...     0.000000  0.000000  0.000000  0.00000   \n",
      "@topic_7   0.551894     0    ...     0.000000  0.000000  0.000000  0.00000   \n",
      "@topic_8   0.000000     0    ...     0.000000  0.000000  0.000000  0.00000   \n",
      "@topic_9   0.000000     0    ...     0.392537  0.000000  0.040708  0.00000   \n",
      "@topic_10  0.000000     0    ...     0.000000  0.812131  0.000000  0.00000   \n",
      "@topic_11  0.263878     0    ...     0.000000  0.107588  0.243630  0.00000   \n",
      "@topic_12  0.000000     0    ...     0.000000  0.026056  0.000000  0.00000   \n",
      "@topic_13  0.000000     1    ...     0.000000  0.000000  0.245265  0.42833   \n",
      "@topic_14  0.000000     0    ...     0.000000  0.000000  0.247387  0.00000   \n",
      "\n",
      "              3425  3426  3427      3428      3429      3430  \n",
      "@topic_0   0.00000     0     0  0.563049  0.467407  0.000000  \n",
      "@topic_1   0.00000     0     0  0.000000  0.000000  0.000000  \n",
      "@topic_2   0.00000     0     0  0.000000  0.000000  0.000000  \n",
      "@topic_3   0.00000     0     0  0.000000  0.532593  0.511935  \n",
      "@topic_4   0.00000     0     0  0.000000  0.000000  0.000000  \n",
      "@topic_5   0.00000     0     0  0.000000  0.000000  0.000000  \n",
      "@topic_6   0.00000     0     0  0.000000  0.000000  0.000000  \n",
      "@topic_7   0.00000     0     0  0.000000  0.000000  0.000000  \n",
      "@topic_8   0.00000     0     0  0.000000  0.000000  0.000000  \n",
      "@topic_9   0.00000     0     0  0.000000  0.000000  0.000000  \n",
      "@topic_10  0.00000     0     0  0.000000  0.000000  0.000000  \n",
      "@topic_11  0.48679     0     0  0.000000  0.000000  0.488065  \n",
      "@topic_12  0.51321     1     0  0.000000  0.000000  0.000000  \n",
      "@topic_13  0.00000     0     0  0.436951  0.000000  0.000000  \n",
      "@topic_14  0.00000     0     0  0.000000  0.000000  0.000000  \n",
      "\n",
      "[15 rows x 3430 columns]\n"
     ]
    }
   ],
   "source": [
    "print theta_matrix"
   ]
  },
  {
   "cell_type": "markdown",
   "metadata": {},
   "source": [
    "## Example #2"
   ]
  },
  {
   "cell_type": "markdown",
   "metadata": {},
   "source": [
    "This is a second part of paper about basic usage of new Python API of BigARTM library. We will load back the model, saved in previous example, and proceed some new operations.\n",
    "\n",
    "The first step is to create a new topic model:"
   ]
  },
  {
   "cell_type": "code",
   "execution_count": 21,
   "metadata": {
    "collapsed": true
   },
   "outputs": [],
   "source": [
    "new_model = artm.ARTM(num_topics=1, num_document_passes=1)"
   ]
  },
  {
   "cell_type": "markdown",
   "metadata": {},
   "source": [
    "Second step is to add regularizers and scores. We'll restrict ourselves to one new score and two regularizers:"
   ]
  },
  {
   "cell_type": "code",
   "execution_count": 22,
   "metadata": {
    "collapsed": false
   },
   "outputs": [],
   "source": [
    "new_model.scores.add(artm.TopicKernelScore(name='TopicKernelScore'))\n",
    "new_model.regularizers.add(artm.SmoothSparsePhiRegularizer(name='SparsePhi', tau=-0.1))\n",
    "new_model.regularizers.add(artm.DecorrelatorPhiRegularizer(name='DecorrelatorPhi', tau=100000.0))"
   ]
  },
  {
   "cell_type": "markdown",
   "metadata": {},
   "source": [
    "Now we will load 'kos_artm_model' file into library"
   ]
  },
  {
   "cell_type": "code",
   "execution_count": 23,
   "metadata": {
    "collapsed": true
   },
   "outputs": [],
   "source": [
    "new_model.load('kos_artm_model')"
   ]
  },
  {
   "cell_type": "markdown",
   "metadata": {},
   "source": [
    "Note, that loaded model will overwrite several things in you ARTM object: number of topics and their names, Phi matrix. It also will reset all saved information about topic model scores values. \n",
    "\n",
    "Nevertheless the scores and the regularizers, applied to ARTM object earlier, won't change. In our case it is a 'TopicKernelScore' score and 'SparsePhi' and 'DecorrelatorPhi' regularizers.\n",
    "\n",
    "Now let's continue model learning, but in online mode. It means that\n",
    "- the number of passes through single document will increase\n",
    "- Phi matrix updates will be proceed several times during one pass of the collection\n",
    "- we need only one pass through the collection (but here we'll do 5, because the 'kos' collection is too small)."
   ]
  },
  {
   "cell_type": "code",
   "execution_count": 24,
   "metadata": {
    "collapsed": false
   },
   "outputs": [],
   "source": [
    "new_model.num_document_passes = 20\n",
    "for i in xrange(5):\n",
    "    new_model.fit_online(batch_vectorizer=batch_vectorizer, update_every=4)"
   ]
  },
  {
   "cell_type": "markdown",
   "metadata": {},
   "source": [
    "'update_every' tells model the number of batches to be processed before next update of Phi.\n",
    "\n",
    "Let's visualize topic kernel scores (average contrast and purity):"
   ]
  },
  {
   "cell_type": "code",
   "execution_count": 25,
   "metadata": {
    "collapsed": false
   },
   "outputs": [
    {
     "data": {
      "image/png": "[encoded data removed]",
      "text/plain": [
       "<matplotlib.figure.Figure at 0xd93ac70>"
      ]
     },
     "metadata": {},
     "output_type": "display_data"
    }
   ],
   "source": [
    "plt.plot(xrange(new_model.num_phi_updates), new_model.score_tracker['TopicKernelScore'].average_contrast, 'g--',\n",
    "         xrange(new_model.num_phi_updates), new_model.score_tracker['TopicKernelScore'].average_purity, 'r--', linewidth=2)\n",
    "plt.xlabel('Iterations count')\n",
    "plt.ylabel('Kernel scores')\n",
    "plt.grid(True)\n",
    "plt.show()"
   ]
  },
  {
   "cell_type": "markdown",
   "metadata": {},
   "source": [
    "As we see, the further study of loaded model only downgraded the quality of the model.\n",
    "\n",
    "Also we can see all information about each topic. For instance let's print topic kernel tokens for first topic:"
   ]
  },
  {
   "cell_type": "code",
   "execution_count": 26,
   "metadata": {
    "collapsed": false
   },
   "outputs": [
    {
     "name": "stdout",
     "output_type": "stream",
     "text": [
      "[u'abandon', u'abb', u'abortion', u'abortions', u'action', u'activist', u'activists', u'acts', u'addition', u'address', u'advocate', u'affairs', u'affect', u'agenda', u'agree', u'agreed', u'allen', u'allowing', u'amendment', u'americas', u'angry', u'antiabortion', u'antigay', u'appeal', u'appealed', u'appealing', u'appeals', u'appears', u'apply', u'appointed', u'areas', u'arent', u'argue', u'argued', u'argument', u'arguments', u'arnold', u'asks', u'assault', u'backed', u'backers', u'ban', u'banning', u'bar', u'base', u'based', u'basic', u'bay', u'believes', u'benefit', u'benefits', u'bishops', u'black', u'blacks', u'blackwell', u'blocked', u'blue', u'body', u'born', u'budgets', u'burden', u'business', u'california', u'calling', u'cap', u'carter', u'catholic', u'catholics', u'ceo', u'checks', u'child', u'children', u'choices', u'christian', u'christians', u'church', u'circuit', u'circumstances', u'citizens', u'civil', u'class', u'clerks', u'closely', u'code', u'colleagues', u'college', u'committed', u'communities', u'concern', u'concerns', u'conservatism', u'conservative', u'conservatives', u'constitution', u'constitutional', u'continuing', u'contract', u'contrast', u'controls', u'cops', u'core', u'couldnt', u'couples', u'court', u'courts', u'crime', u'cuba', u'cuban', u'cultural', u'dad', u'daniel', u'daughter', u'decade', u'decades', u'decide', u'decision', u'deep', u'designed', u'desire', u'dhinmi', u'differences', u'difficult', u'discussed', u'dispute', u'diverse', u'divide', u'divided', u'domestic', u'downright', u'dream', u'due', u'easy', u'education', u'elected', u'encourage', u'enron', u'environment', u'equal', u'essential', u'europeans', u'evangelical', u'everyday', u'executive', u'exist', u'expressed', u'extreme', u'faces', u'factors', u'fails', u'fair', u'faith', u'fall', u'families', u'family', u'father', u'fault', u'favor', u'fear', u'federal', u'fellow', u'fight', u'fingerhut', u'firmly', u'fit', u'flag', u'follow', u'football', u'forever', u'form', u'forum', u'frame', u'freedom', u'front', u'fundamental', u'funding', u'future', u'gain', u'gay', u'gays', u'generation', u'generations', u'gonna', u'gops', u'granholm', u'greater', u'greatest', u'groups', u'grow', u'growing', u'harm', u'hate', u'hear', u'helped', u'helps', u'heritage', u'highest', u'highlight', u'historic', u'history', u'hold', u'human', u'hypocrisy', u'idea', u'ideas', u'identified', u'identify', u'ignore', u'illegal', u'impose', u'imposed', u'impossible', u'included', u'includes', u'income', u'increasingly', u'index', u'individual', u'individuals', u'influence', u'initiative', u'instance', u'interest', u'introduce', u'involved', u'issue', u'james', u'jimmy', u'joined', u'judge', u'judges', u'justice', u'justices', u'kind', u'lack', u'lakoff', u'language', u'largely', u'latin', u'law', u'laws', u'lawsuit', u'lawyers', u'lay', u'leaders', u'leadership', u'learn', u'legacy', u'legal', u'legislation', u'legislative', u'legislature', u'liberal', u'liberals', u'libertarian', u'liberty', u'licenses', u'life', u'limit', u'limits', u'lived', u'lives', u'living', u'majority', u'makes', u'marriage', u'marriages', u'married', u'marry', u'mars', u'massachusetts', u'matrix', u'matters', u'measure', u'member', u'membership', u'merits', u'michigan', u'middle', u'millions', u'minimum', u'minority', u'modern', u'moral', u'mother', u'mothers', u'move', u'naacp', u'nick', u'notable', u'nra', u'offer', u'older', u'opponents', u'oppose', u'opposed', u'opposes', u'opposition', u'order', u'outsiders', u'overwhelmingly', u'ownership', u'parents', u'participate', u'parties', u'partisan', u'partners', u'pass', u'passage', u'passed', u'passing', u'patient', u'paying', u'permit', u'personally', u'perspective', u'places', u'platform', u'play', u'policies', u'politically', u'politicians', u'poor', u'position', u'positions', u'power', u'powerful', u'practice', u'present', u'priorities', u'problem', u'process', u'product', u'progressive', u'progressives', u'promised', u'promote', u'proper', u'property', u'proposal', u'proposed', u'prospect', u'protect', u'protecting', u'protection', u'proud', u'providing', u'purpose', u'qualified', u'quality', u'racism', u'reach', u'reads', u'reagans', u'reason', u'reasons', u'recall', u'receive', u'recognize', u'red', u'reduce', u'referendum', u'reflect', u'reform', u'refused', u'rejected', u'relief', u'religion', u'religious', u'replacing', u'representative', u'require', u'required', u'respect', u'responsibility', u'restrictions', u'result', u'review', u'rhetoric', u'rich', u'rights', u'rightwing', u'risk', u'ronald', u'roots', u'roves', u'rule', u'ruled', u'rules', u'ruling', u'rural', u'sales', u'samesex', u'sanctions', u'schools', u'schwarz', u'schwarzenegger', u'seek', u'seeking', u'seeks', u'send', u'serve', u'services', u'settled', u'sex', u'sexual', u'share', u'short', u'sides', u'sign', u'signed', u'significant', u'simple', u'simply', u'sincerely', u'small', u'smith', u'socalled', u'social', u'society', u'sold', u'southern', u'spirit', u'stand', u'standard', u'starts', u'status', u'steel', u'stood', u'strategy', u'students', u'subject', u'success', u'suit', u'sullivan', u'supported', u'supporting', u'supports', u'supposedly', u'supreme', u'system', u'tactics', u'taking', u'tapes', u'tariffs', u'taxes', u'ten', u'term', u'test', u'thousands', u'tobacco', u'trade', u'tradition', u'traditional', u'transfers', u'travel', u'tuesday', u'tuition', u'turn', u'twothirds', u'understand', u'understanding', u'university', u'values', u'views', u'vision', u'vital', u'wage', u'walmart', u'ways', u'welfare', u'western', u'wife', u'wing', u'woman', u'women', u'womens', u'writer', u'younger']\n"
     ]
    }
   ],
   "source": [
    "print new_model.score_tracker['TopicKernelScore'].last_topic_info[new_model.topic_names[0]].tokens"
   ]
  },
  {
   "cell_type": "markdown",
   "metadata": {},
   "source": [
    "If we have the batch with documents, that didn't take part in model learning, and we want to get Theta matrix for it, we can use 'find_theta' method:"
   ]
  },
  {
   "cell_type": "code",
   "execution_count": 27,
   "metadata": {
    "collapsed": false
   },
   "outputs": [],
   "source": [
    "test_batch_vectorizer = artm.BatchVectorizer(data_format='batches', data_path='kos_test', batches=['test_docs.batch'])\n",
    "test_theta_matrix = new_model.transform(batch_vectorizer=test_batch_vectorizer)"
   ]
  },
  {
   "cell_type": "markdown",
   "metadata": {},
   "source": [
    "ARTM.transform(), as ARTM.fit_transform(), returns Theta matrix as pandas.DataFrame object. Let's print it:"
   ]
  },
  {
   "cell_type": "code",
   "execution_count": 28,
   "metadata": {
    "collapsed": false
   },
   "outputs": [
    {
     "name": "stdout",
     "output_type": "stream",
     "text": [
      "                   3001          3002          3003      3004          3005  \\\n",
      "@topic_0   9.710012e-02  2.171980e-02  9.249386e-02  0.136457  7.660387e-02   \n",
      "@topic_1   7.978160e-02  0.000000e+00  5.726847e-02  0.000000  4.101091e-02   \n",
      "@topic_2   0.000000e+00  5.166236e-02  0.000000e+00  0.037120  3.127101e-02   \n",
      "@topic_3   2.007922e-02  1.173554e-02  6.994369e-16  0.052444  6.212134e-02   \n",
      "@topic_4   0.000000e+00  0.000000e+00  0.000000e+00  0.009470  0.000000e+00   \n",
      "@topic_5   0.000000e+00  0.000000e+00  1.264674e-02  0.000000  2.155282e-02   \n",
      "@topic_6   0.000000e+00  3.562529e-16  5.564125e-02  0.013802  0.000000e+00   \n",
      "@topic_7   7.599228e-07  1.435614e-02  2.989346e-02  0.013328  3.360545e-02   \n",
      "@topic_8   1.528709e-09  0.000000e+00  1.465323e-14  0.031255  8.907447e-16   \n",
      "@topic_9   4.936359e-02  4.631600e-01  2.596855e-07  0.117849  1.069804e-01   \n",
      "@topic_10  2.909756e-09  0.000000e+00  0.000000e+00  0.000000  0.000000e+00   \n",
      "@topic_11  6.612843e-01  3.461375e-01  5.072102e-01  0.553202  4.326475e-01   \n",
      "@topic_12  5.337451e-02  4.090484e-02  1.963676e-01  0.020826  5.200914e-02   \n",
      "@topic_13  4.407475e-03  5.032379e-02  4.847204e-02  0.014245  1.421975e-01   \n",
      "@topic_14  3.460844e-02  2.675776e-09  6.203266e-06  0.000000  8.580560e-12   \n",
      "\n",
      "               3006          3007          3008          3009          3010  \\\n",
      "@topic_0   0.009972  2.530809e-01  4.536380e-08  4.362271e-02  7.165326e-02   \n",
      "@topic_1   0.000000  0.000000e+00  0.000000e+00  0.000000e+00  0.000000e+00   \n",
      "@topic_2   0.644273  2.417334e-14  0.000000e+00  1.590299e-02  8.779962e-03   \n",
      "@topic_3   0.007953  9.493618e-02  8.769069e-02  6.558011e-02  9.223902e-03   \n",
      "@topic_4   0.000000  9.823562e-03  0.000000e+00  0.000000e+00  0.000000e+00   \n",
      "@topic_5   0.000000  1.520491e-02  5.774909e-02  3.025727e-02  1.094650e-02   \n",
      "@topic_6   0.000000  1.354233e-01  2.048946e-01  3.232440e-13  1.081354e-02   \n",
      "@topic_7   0.000000  6.464100e-03  0.000000e+00  2.231979e-02  0.000000e+00   \n",
      "@topic_8   0.000000  0.000000e+00  0.000000e+00  1.137399e-10  5.187390e-08   \n",
      "@topic_9   0.000000  1.387659e-01  3.133781e-01  4.385211e-01  2.909764e-01   \n",
      "@topic_10  0.176489  6.119366e-05  0.000000e+00  0.000000e+00  0.000000e+00   \n",
      "@topic_11  0.124974  2.443236e-01  3.077701e-01  3.837942e-01  4.954566e-01   \n",
      "@topic_12  0.000000  6.727429e-02  5.579622e-08  1.822133e-06  3.616155e-13   \n",
      "@topic_13  0.023561  2.019775e-02  2.851727e-02  9.069387e-13  6.749130e-02   \n",
      "@topic_14  0.012777  1.444427e-02  0.000000e+00  0.000000e+00  3.465844e-02   \n",
      "\n",
      "               ...               3421          3422          3423      3424  \\\n",
      "@topic_0       ...       0.000000e+00  1.733568e-02  3.093895e-02  0.000000   \n",
      "@topic_1       ...       2.541188e-01  6.047951e-02  3.071509e-02  0.000000   \n",
      "@topic_2       ...       0.000000e+00  3.732013e-01  9.044307e-03  0.055556   \n",
      "@topic_3       ...       9.284178e-02  2.156852e-03  1.029103e-01  0.115800   \n",
      "@topic_4       ...       0.000000e+00  0.000000e+00  0.000000e+00  0.000000   \n",
      "@topic_5       ...       1.453366e-16  0.000000e+00  1.569247e-04  0.000000   \n",
      "@topic_6       ...       1.841681e-05  7.858246e-03  0.000000e+00  0.000000   \n",
      "@topic_7       ...       1.369863e-02  2.988427e-02  1.155897e-02  0.000000   \n",
      "@topic_8       ...       2.352908e-02  6.089970e-05  3.173010e-10  0.000000   \n",
      "@topic_9       ...       6.971367e-02  2.101227e-08  2.780333e-02  0.054357   \n",
      "@topic_10      ...       0.000000e+00  2.365681e-01  1.371896e-07  0.021804   \n",
      "@topic_11      ...       3.947400e-01  2.445218e-01  5.271508e-01  0.339573   \n",
      "@topic_12      ...       6.601911e-02  2.793334e-02  1.315250e-02  0.080508   \n",
      "@topic_13      ...       8.532053e-02  0.000000e+00  1.429718e-01  0.276847   \n",
      "@topic_14      ...       0.000000e+00  0.000000e+00  1.035970e-01  0.055556   \n",
      "\n",
      "                   3425          3426          3427          3428      3429  \\\n",
      "@topic_0   2.765266e-02  1.442842e-02  7.692308e-02  2.623228e-01  0.238463   \n",
      "@topic_1   1.801051e-03  0.000000e+00  0.000000e+00  0.000000e+00  0.021594   \n",
      "@topic_2   0.000000e+00  1.442656e-02  0.000000e+00  1.551462e-02  0.000000   \n",
      "@topic_3   6.941239e-02  3.875231e-02  0.000000e+00  1.913643e-02  0.194774   \n",
      "@topic_4   2.564103e-02  1.071429e-01  7.692308e-02  0.000000e+00  0.000000   \n",
      "@topic_5   1.447819e-15  0.000000e+00  0.000000e+00  1.899538e-04  0.024232   \n",
      "@topic_6   1.753537e-14  2.354685e-04  4.150507e-08  4.233305e-05  0.085161   \n",
      "@topic_7   2.694143e-02  0.000000e+00  0.000000e+00  1.632299e-02  0.021987   \n",
      "@topic_8   2.714306e-02  3.546465e-02  1.050674e-01  7.817656e-05  0.000000   \n",
      "@topic_9   5.743854e-10  4.911444e-04  1.598407e-06  4.462670e-02  0.051875   \n",
      "@topic_10  0.000000e+00  0.000000e+00  0.000000e+00  0.000000e+00  0.000000   \n",
      "@topic_11  6.580554e-01  5.198224e-01  5.303366e-01  4.565989e-01  0.176407   \n",
      "@topic_12  7.183978e-07  2.487176e-01  2.107482e-01  3.369710e-02  0.066930   \n",
      "@topic_13  1.633524e-01  8.482598e-09  0.000000e+00  1.514701e-01  0.118577   \n",
      "@topic_14  0.000000e+00  2.051864e-02  0.000000e+00  4.309973e-16  0.000000   \n",
      "\n",
      "                   3430  \n",
      "@topic_0   5.615961e-02  \n",
      "@topic_1   5.531080e-02  \n",
      "@topic_2   0.000000e+00  \n",
      "@topic_3   1.357521e-01  \n",
      "@topic_4   1.467725e-02  \n",
      "@topic_5   1.933662e-02  \n",
      "@topic_6   5.540826e-02  \n",
      "@topic_7   1.495842e-02  \n",
      "@topic_8   1.013126e-03  \n",
      "@topic_9   1.881693e-02  \n",
      "@topic_10  0.000000e+00  \n",
      "@topic_11  5.847782e-01  \n",
      "@topic_12  1.910482e-02  \n",
      "@topic_13  3.059343e-08  \n",
      "@topic_14  2.468376e-02  \n",
      "\n",
      "[15 rows x 430 columns]\n"
     ]
    }
   ],
   "source": [
    "print test_theta_matrix"
   ]
  }
 ],
 "metadata": {
  "kernelspec": {
   "display_name": "Python 2",
   "language": "python",
   "name": "python2"
  },
  "language_info": {
   "codemirror_mode": {
    "name": "ipython",
    "version": 2
   },
   "file_extension": ".py",
   "mimetype": "text/x-python",
   "name": "python",
   "nbconvert_exporter": "python",
   "pygments_lexer": "ipython2",
   "version": "2.7.10"
  }
 },
 "nbformat": 4,
 "nbformat_minor": 0
}
